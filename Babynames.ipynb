{
 "cells": [
  {
   "cell_type": "code",
   "execution_count": 85,
   "id": "2582c512-5398-4589-a12c-d49a9224e427",
   "metadata": {},
   "outputs": [],
   "source": [
    "import pandas as pd\n",
    "import altair as alt"
   ]
  },
  {
   "cell_type": "code",
   "execution_count": 86,
   "id": "e43e9cd6-66b7-40cf-af23-5c8d225e5fc7",
   "metadata": {},
   "outputs": [],
   "source": [
    "df = pd.read_csv(\"Copy of SSA Baby Names - All SSA Data.csv\")"
   ]
  },
  {
   "cell_type": "code",
   "execution_count": 87,
   "id": "36445530-1e41-430d-8191-fc9e2d432d5c",
   "metadata": {},
   "outputs": [
    {
     "data": {
      "text/plain": [
       "Year      int64\n",
       "Name     object\n",
       "Sex      object\n",
       "Count     int64\n",
       "dtype: object"
      ]
     },
     "execution_count": 87,
     "metadata": {},
     "output_type": "execute_result"
    }
   ],
   "source": [
    "#Doe ik mijn eigen naam?\n",
    "#of doe ik iets met Dick / Mark, buitenlandse zaken mensen van dit kabinet?\n",
    "\n",
    "df.dtypes"
   ]
  },
  {
   "cell_type": "code",
   "execution_count": 88,
   "id": "efbcf506-af77-43bd-ad27-91c9d882ac3b",
   "metadata": {},
   "outputs": [
    {
     "data": {
      "text/plain": [
       "<bound method DataFrame.info of          Year       Name Sex  Count\n",
       "0        1880       Mary   F   7065\n",
       "1        1880       Anna   F   2604\n",
       "2        1880       Emma   F   2003\n",
       "3        1880  Elizabeth   F   1939\n",
       "4        1880     Minnie   F   1746\n",
       "...       ...        ...  ..    ...\n",
       "2116835  2023      Zyell   M      5\n",
       "2116836  2023       Zyen   M      5\n",
       "2116837  2023     Zymirr   M      5\n",
       "2116838  2023     Zyquan   M      5\n",
       "2116839  2023      Zyrin   M      5\n",
       "\n",
       "[2116840 rows x 4 columns]>"
      ]
     },
     "execution_count": 88,
     "metadata": {},
     "output_type": "execute_result"
    }
   ],
   "source": [
    "df.info"
   ]
  },
  {
   "cell_type": "code",
   "execution_count": 89,
   "id": "1516abcc-963e-4b79-95c7-ebfdb44d5aeb",
   "metadata": {},
   "outputs": [
    {
     "data": {
      "text/plain": [
       "(2116840, 4)"
      ]
     },
     "execution_count": 89,
     "metadata": {},
     "output_type": "execute_result"
    }
   ],
   "source": [
    "df.shape"
   ]
  },
  {
   "cell_type": "code",
   "execution_count": 90,
   "id": "d3af1ec8-20f5-45a4-abb9-0a2abf835cb3",
   "metadata": {},
   "outputs": [
    {
     "data": {
      "text/html": [
       "<div>\n",
       "<style scoped>\n",
       "    .dataframe tbody tr th:only-of-type {\n",
       "        vertical-align: middle;\n",
       "    }\n",
       "\n",
       "    .dataframe tbody tr th {\n",
       "        vertical-align: top;\n",
       "    }\n",
       "\n",
       "    .dataframe thead th {\n",
       "        text-align: right;\n",
       "    }\n",
       "</style>\n",
       "<table border=\"1\" class=\"dataframe\">\n",
       "  <thead>\n",
       "    <tr style=\"text-align: right;\">\n",
       "      <th></th>\n",
       "      <th>Year</th>\n",
       "      <th>Name</th>\n",
       "      <th>Sex</th>\n",
       "      <th>Count</th>\n",
       "    </tr>\n",
       "  </thead>\n",
       "  <tbody>\n",
       "    <tr>\n",
       "      <th>0</th>\n",
       "      <td>1880</td>\n",
       "      <td>Mary</td>\n",
       "      <td>F</td>\n",
       "      <td>7065</td>\n",
       "    </tr>\n",
       "    <tr>\n",
       "      <th>1</th>\n",
       "      <td>1880</td>\n",
       "      <td>Anna</td>\n",
       "      <td>F</td>\n",
       "      <td>2604</td>\n",
       "    </tr>\n",
       "    <tr>\n",
       "      <th>2</th>\n",
       "      <td>1880</td>\n",
       "      <td>Emma</td>\n",
       "      <td>F</td>\n",
       "      <td>2003</td>\n",
       "    </tr>\n",
       "    <tr>\n",
       "      <th>3</th>\n",
       "      <td>1880</td>\n",
       "      <td>Elizabeth</td>\n",
       "      <td>F</td>\n",
       "      <td>1939</td>\n",
       "    </tr>\n",
       "    <tr>\n",
       "      <th>4</th>\n",
       "      <td>1880</td>\n",
       "      <td>Minnie</td>\n",
       "      <td>F</td>\n",
       "      <td>1746</td>\n",
       "    </tr>\n",
       "  </tbody>\n",
       "</table>\n",
       "</div>"
      ],
      "text/plain": [
       "   Year       Name Sex  Count\n",
       "0  1880       Mary   F   7065\n",
       "1  1880       Anna   F   2604\n",
       "2  1880       Emma   F   2003\n",
       "3  1880  Elizabeth   F   1939\n",
       "4  1880     Minnie   F   1746"
      ]
     },
     "execution_count": 90,
     "metadata": {},
     "output_type": "execute_result"
    }
   ],
   "source": [
    "df.head()"
   ]
  },
  {
   "cell_type": "code",
   "execution_count": 91,
   "id": "8a9ee152-02ff-4c50-a148-e3de6df46557",
   "metadata": {
    "scrolled": true
   },
   "outputs": [
    {
     "data": {
      "text/plain": [
       "Name\n",
       "Jesse      288\n",
       "Lee        288\n",
       "James      288\n",
       "John       288\n",
       "Francis    288\n",
       "William    288\n",
       "Leslie     288\n",
       "Jean       288\n",
       "Marion     288\n",
       "Sidney     288\n",
       "Name: count, dtype: int64"
      ]
     },
     "execution_count": 91,
     "metadata": {},
     "output_type": "execute_result"
    }
   ],
   "source": [
    "df['Name'].value_counts().head(10)"
   ]
  },
  {
   "cell_type": "code",
   "execution_count": 92,
   "id": "7f41636f-50a5-45e3-9173-debcb4f0a266",
   "metadata": {},
   "outputs": [
    {
     "name": "stdout",
     "output_type": "stream",
     "text": [
      "         Year  Name Sex  Count\n",
      "1282     1880  Dick   M     25\n",
      "3312     1881  Dick   M     20\n",
      "5459     1882  Dick   M     14\n",
      "7453     1883  Dick   M     24\n",
      "9601     1884  Dick   M     37\n",
      "...       ...   ...  ..    ...\n",
      "1194901  1994  Dick   M      6\n",
      "1220937  1995  Dick   M      6\n",
      "1360127  2000  Dick   M      6\n",
      "1420890  2002  Dick   M      6\n",
      "1518034  2005  Dick   M      5\n",
      "\n",
      "[125 rows x 4 columns]\n"
     ]
    }
   ],
   "source": [
    "dick_df = df[df['Name'] == 'Dick']\n",
    "print(dick_df)"
   ]
  },
  {
   "cell_type": "code",
   "execution_count": 118,
   "id": "74843a23-c94f-416d-88a5-e59c6bfb1fbd",
   "metadata": {
    "scrolled": true
   },
   "outputs": [
    {
     "data": {
      "text/html": [
       "\n",
       "<style>\n",
       "  #altair-viz-91a8ba70f6ac4dd49c26ec2e9bb16a55.vega-embed {\n",
       "    width: 100%;\n",
       "    display: flex;\n",
       "  }\n",
       "\n",
       "  #altair-viz-91a8ba70f6ac4dd49c26ec2e9bb16a55.vega-embed details,\n",
       "  #altair-viz-91a8ba70f6ac4dd49c26ec2e9bb16a55.vega-embed details summary {\n",
       "    position: relative;\n",
       "  }\n",
       "</style>\n",
       "<div id=\"altair-viz-91a8ba70f6ac4dd49c26ec2e9bb16a55\"></div>\n",
       "<script type=\"text/javascript\">\n",
       "  var VEGA_DEBUG = (typeof VEGA_DEBUG == \"undefined\") ? {} : VEGA_DEBUG;\n",
       "  (function(spec, embedOpt){\n",
       "    let outputDiv = document.currentScript.previousElementSibling;\n",
       "    if (outputDiv.id !== \"altair-viz-91a8ba70f6ac4dd49c26ec2e9bb16a55\") {\n",
       "      outputDiv = document.getElementById(\"altair-viz-91a8ba70f6ac4dd49c26ec2e9bb16a55\");\n",
       "    }\n",
       "    const paths = {\n",
       "      \"vega\": \"https://cdn.jsdelivr.net/npm/vega@5?noext\",\n",
       "      \"vega-lib\": \"https://cdn.jsdelivr.net/npm/vega-lib?noext\",\n",
       "      \"vega-lite\": \"https://cdn.jsdelivr.net/npm/vega-lite@5.17.0?noext\",\n",
       "      \"vega-embed\": \"https://cdn.jsdelivr.net/npm/vega-embed@6?noext\",\n",
       "    };\n",
       "\n",
       "    function maybeLoadScript(lib, version) {\n",
       "      var key = `${lib.replace(\"-\", \"\")}_version`;\n",
       "      return (VEGA_DEBUG[key] == version) ?\n",
       "        Promise.resolve(paths[lib]) :\n",
       "        new Promise(function(resolve, reject) {\n",
       "          var s = document.createElement('script');\n",
       "          document.getElementsByTagName(\"head\")[0].appendChild(s);\n",
       "          s.async = true;\n",
       "          s.onload = () => {\n",
       "            VEGA_DEBUG[key] = version;\n",
       "            return resolve(paths[lib]);\n",
       "          };\n",
       "          s.onerror = () => reject(`Error loading script: ${paths[lib]}`);\n",
       "          s.src = paths[lib];\n",
       "        });\n",
       "    }\n",
       "\n",
       "    function showError(err) {\n",
       "      outputDiv.innerHTML = `<div class=\"error\" style=\"color:red;\">${err}</div>`;\n",
       "      throw err;\n",
       "    }\n",
       "\n",
       "    function displayChart(vegaEmbed) {\n",
       "      vegaEmbed(outputDiv, spec, embedOpt)\n",
       "        .catch(err => showError(`Javascript Error: ${err.message}<br>This usually means there's a typo in your chart specification. See the javascript console for the full traceback.`));\n",
       "    }\n",
       "\n",
       "    if(typeof define === \"function\" && define.amd) {\n",
       "      requirejs.config({paths});\n",
       "      require([\"vega-embed\"], displayChart, err => showError(`Error loading script: ${err.message}`));\n",
       "    } else {\n",
       "      maybeLoadScript(\"vega\", \"5\")\n",
       "        .then(() => maybeLoadScript(\"vega-lite\", \"5.17.0\"))\n",
       "        .then(() => maybeLoadScript(\"vega-embed\", \"6\"))\n",
       "        .catch(showError)\n",
       "        .then(() => displayChart(vegaEmbed));\n",
       "    }\n",
       "  })({\"config\": {\"view\": {\"continuousWidth\": 300, \"continuousHeight\": 300}}, \"data\": {\"name\": \"data-af2c6959412ba78aa71e21201f5d14c6\"}, \"mark\": {\"type\": \"line\"}, \"encoding\": {\"tooltip\": [{\"field\": \"Year\", \"type\": \"quantitative\"}, {\"field\": \"Count\", \"type\": \"quantitative\"}], \"x\": {\"field\": \"Year\", \"type\": \"quantitative\"}, \"y\": {\"field\": \"Count\", \"type\": \"quantitative\"}}, \"title\": \"Popularity of the Name \\\"Dick\\\" Over Time\", \"width\": 800, \"$schema\": \"https://vega.github.io/schema/vega-lite/v5.17.0.json\", \"datasets\": {\"data-af2c6959412ba78aa71e21201f5d14c6\": [{\"Year\": 1880, \"Name\": \"Dick\", \"Sex\": \"M\", \"Count\": 25}, {\"Year\": 1881, \"Name\": \"Dick\", \"Sex\": \"M\", \"Count\": 20}, {\"Year\": 1882, \"Name\": \"Dick\", \"Sex\": \"M\", \"Count\": 14}, {\"Year\": 1883, \"Name\": \"Dick\", \"Sex\": \"M\", \"Count\": 24}, {\"Year\": 1884, \"Name\": \"Dick\", \"Sex\": \"M\", \"Count\": 37}, {\"Year\": 1885, \"Name\": \"Dick\", \"Sex\": \"M\", \"Count\": 27}, {\"Year\": 1886, \"Name\": \"Dick\", \"Sex\": \"M\", \"Count\": 23}, {\"Year\": 1887, \"Name\": \"Dick\", \"Sex\": \"M\", \"Count\": 27}, {\"Year\": 1888, \"Name\": \"Dick\", \"Sex\": \"M\", \"Count\": 27}, {\"Year\": 1889, \"Name\": \"Dick\", \"Sex\": \"M\", \"Count\": 22}, {\"Year\": 1890, \"Name\": \"Dick\", \"Sex\": \"M\", \"Count\": 31}, {\"Year\": 1891, \"Name\": \"Dick\", \"Sex\": \"M\", \"Count\": 18}, {\"Year\": 1892, \"Name\": \"Dick\", \"Sex\": \"M\", \"Count\": 24}, {\"Year\": 1893, \"Name\": \"Dick\", \"Sex\": \"M\", \"Count\": 20}, {\"Year\": 1894, \"Name\": \"Dick\", \"Sex\": \"M\", \"Count\": 25}, {\"Year\": 1895, \"Name\": \"Dick\", \"Sex\": \"M\", \"Count\": 22}, {\"Year\": 1896, \"Name\": \"Dick\", \"Sex\": \"M\", \"Count\": 27}, {\"Year\": 1897, \"Name\": \"Dick\", \"Sex\": \"M\", \"Count\": 23}, {\"Year\": 1898, \"Name\": \"Dick\", \"Sex\": \"M\", \"Count\": 29}, {\"Year\": 1899, \"Name\": \"Dick\", \"Sex\": \"M\", \"Count\": 30}, {\"Year\": 1900, \"Name\": \"Dick\", \"Sex\": \"M\", \"Count\": 45}, {\"Year\": 1901, \"Name\": \"Dick\", \"Sex\": \"M\", \"Count\": 21}, {\"Year\": 1902, \"Name\": \"Dick\", \"Sex\": \"M\", \"Count\": 35}, {\"Year\": 1903, \"Name\": \"Dick\", \"Sex\": \"M\", \"Count\": 18}, {\"Year\": 1904, \"Name\": \"Dick\", \"Sex\": \"M\", \"Count\": 24}, {\"Year\": 1905, \"Name\": \"Dick\", \"Sex\": \"M\", \"Count\": 36}, {\"Year\": 1906, \"Name\": \"Dick\", \"Sex\": \"M\", \"Count\": 32}, {\"Year\": 1907, \"Name\": \"Dick\", \"Sex\": \"M\", \"Count\": 38}, {\"Year\": 1908, \"Name\": \"Dick\", \"Sex\": \"M\", \"Count\": 34}, {\"Year\": 1909, \"Name\": \"Dick\", \"Sex\": \"M\", \"Count\": 46}, {\"Year\": 1910, \"Name\": \"Dick\", \"Sex\": \"M\", \"Count\": 52}, {\"Year\": 1911, \"Name\": \"Dick\", \"Sex\": \"M\", \"Count\": 37}, {\"Year\": 1912, \"Name\": \"Dick\", \"Sex\": \"F\", \"Count\": 5}, {\"Year\": 1912, \"Name\": \"Dick\", \"Sex\": \"M\", \"Count\": 77}, {\"Year\": 1913, \"Name\": \"Dick\", \"Sex\": \"M\", \"Count\": 94}, {\"Year\": 1914, \"Name\": \"Dick\", \"Sex\": \"M\", \"Count\": 129}, {\"Year\": 1915, \"Name\": \"Dick\", \"Sex\": \"M\", \"Count\": 167}, {\"Year\": 1916, \"Name\": \"Dick\", \"Sex\": \"M\", \"Count\": 221}, {\"Year\": 1917, \"Name\": \"Dick\", \"Sex\": \"M\", \"Count\": 220}, {\"Year\": 1918, \"Name\": \"Dick\", \"Sex\": \"F\", \"Count\": 6}, {\"Year\": 1918, \"Name\": \"Dick\", \"Sex\": \"M\", \"Count\": 251}, {\"Year\": 1919, \"Name\": \"Dick\", \"Sex\": \"M\", \"Count\": 269}, {\"Year\": 1920, \"Name\": \"Dick\", \"Sex\": \"F\", \"Count\": 7}, {\"Year\": 1920, \"Name\": \"Dick\", \"Sex\": \"M\", \"Count\": 329}, {\"Year\": 1921, \"Name\": \"Dick\", \"Sex\": \"M\", \"Count\": 349}, {\"Year\": 1922, \"Name\": \"Dick\", \"Sex\": \"M\", \"Count\": 363}, {\"Year\": 1923, \"Name\": \"Dick\", \"Sex\": \"M\", \"Count\": 350}, {\"Year\": 1924, \"Name\": \"Dick\", \"Sex\": \"M\", \"Count\": 442}, {\"Year\": 1925, \"Name\": \"Dick\", \"Sex\": \"F\", \"Count\": 8}, {\"Year\": 1925, \"Name\": \"Dick\", \"Sex\": \"M\", \"Count\": 564}, {\"Year\": 1926, \"Name\": \"Dick\", \"Sex\": \"M\", \"Count\": 650}, {\"Year\": 1927, \"Name\": \"Dick\", \"Sex\": \"M\", \"Count\": 775}, {\"Year\": 1928, \"Name\": \"Dick\", \"Sex\": \"M\", \"Count\": 834}, {\"Year\": 1929, \"Name\": \"Dick\", \"Sex\": \"F\", \"Count\": 5}, {\"Year\": 1929, \"Name\": \"Dick\", \"Sex\": \"M\", \"Count\": 842}, {\"Year\": 1930, \"Name\": \"Dick\", \"Sex\": \"F\", \"Count\": 6}, {\"Year\": 1930, \"Name\": \"Dick\", \"Sex\": \"M\", \"Count\": 940}, {\"Year\": 1931, \"Name\": \"Dick\", \"Sex\": \"F\", \"Count\": 6}, {\"Year\": 1931, \"Name\": \"Dick\", \"Sex\": \"M\", \"Count\": 992}, {\"Year\": 1932, \"Name\": \"Dick\", \"Sex\": \"M\", \"Count\": 1053}, {\"Year\": 1933, \"Name\": \"Dick\", \"Sex\": \"F\", \"Count\": 5}, {\"Year\": 1933, \"Name\": \"Dick\", \"Sex\": \"M\", \"Count\": 1045}, {\"Year\": 1934, \"Name\": \"Dick\", \"Sex\": \"M\", \"Count\": 1131}, {\"Year\": 1935, \"Name\": \"Dick\", \"Sex\": \"M\", \"Count\": 1093}, {\"Year\": 1936, \"Name\": \"Dick\", \"Sex\": \"M\", \"Count\": 1088}, {\"Year\": 1937, \"Name\": \"Dick\", \"Sex\": \"M\", \"Count\": 1008}, {\"Year\": 1938, \"Name\": \"Dick\", \"Sex\": \"M\", \"Count\": 936}, {\"Year\": 1939, \"Name\": \"Dick\", \"Sex\": \"M\", \"Count\": 877}, {\"Year\": 1940, \"Name\": \"Dick\", \"Sex\": \"M\", \"Count\": 911}, {\"Year\": 1941, \"Name\": \"Dick\", \"Sex\": \"M\", \"Count\": 893}, {\"Year\": 1942, \"Name\": \"Dick\", \"Sex\": \"M\", \"Count\": 862}, {\"Year\": 1943, \"Name\": \"Dick\", \"Sex\": \"M\", \"Count\": 855}, {\"Year\": 1944, \"Name\": \"Dick\", \"Sex\": \"M\", \"Count\": 808}, {\"Year\": 1945, \"Name\": \"Dick\", \"Sex\": \"M\", \"Count\": 758}, {\"Year\": 1946, \"Name\": \"Dick\", \"Sex\": \"M\", \"Count\": 828}, {\"Year\": 1947, \"Name\": \"Dick\", \"Sex\": \"M\", \"Count\": 755}, {\"Year\": 1948, \"Name\": \"Dick\", \"Sex\": \"M\", \"Count\": 552}, {\"Year\": 1949, \"Name\": \"Dick\", \"Sex\": \"M\", \"Count\": 340}, {\"Year\": 1950, \"Name\": \"Dick\", \"Sex\": \"M\", \"Count\": 269}, {\"Year\": 1951, \"Name\": \"Dick\", \"Sex\": \"M\", \"Count\": 246}, {\"Year\": 1952, \"Name\": \"Dick\", \"Sex\": \"M\", \"Count\": 215}, {\"Year\": 1953, \"Name\": \"Dick\", \"Sex\": \"M\", \"Count\": 215}, {\"Year\": 1954, \"Name\": \"Dick\", \"Sex\": \"M\", \"Count\": 167}, {\"Year\": 1955, \"Name\": \"Dick\", \"Sex\": \"M\", \"Count\": 182}, {\"Year\": 1956, \"Name\": \"Dick\", \"Sex\": \"M\", \"Count\": 192}, {\"Year\": 1957, \"Name\": \"Dick\", \"Sex\": \"M\", \"Count\": 201}, {\"Year\": 1958, \"Name\": \"Dick\", \"Sex\": \"M\", \"Count\": 234}, {\"Year\": 1959, \"Name\": \"Dick\", \"Sex\": \"M\", \"Count\": 219}, {\"Year\": 1960, \"Name\": \"Dick\", \"Sex\": \"M\", \"Count\": 186}, {\"Year\": 1961, \"Name\": \"Dick\", \"Sex\": \"M\", \"Count\": 181}, {\"Year\": 1962, \"Name\": \"Dick\", \"Sex\": \"M\", \"Count\": 148}, {\"Year\": 1963, \"Name\": \"Dick\", \"Sex\": \"M\", \"Count\": 129}, {\"Year\": 1964, \"Name\": \"Dick\", \"Sex\": \"M\", \"Count\": 110}, {\"Year\": 1965, \"Name\": \"Dick\", \"Sex\": \"M\", \"Count\": 99}, {\"Year\": 1966, \"Name\": \"Dick\", \"Sex\": \"M\", \"Count\": 65}, {\"Year\": 1967, \"Name\": \"Dick\", \"Sex\": \"M\", \"Count\": 74}, {\"Year\": 1968, \"Name\": \"Dick\", \"Sex\": \"M\", \"Count\": 62}, {\"Year\": 1969, \"Name\": \"Dick\", \"Sex\": \"M\", \"Count\": 57}, {\"Year\": 1970, \"Name\": \"Dick\", \"Sex\": \"M\", \"Count\": 52}, {\"Year\": 1971, \"Name\": \"Dick\", \"Sex\": \"M\", \"Count\": 38}, {\"Year\": 1972, \"Name\": \"Dick\", \"Sex\": \"M\", \"Count\": 29}, {\"Year\": 1973, \"Name\": \"Dick\", \"Sex\": \"M\", \"Count\": 35}, {\"Year\": 1974, \"Name\": \"Dick\", \"Sex\": \"M\", \"Count\": 33}, {\"Year\": 1975, \"Name\": \"Dick\", \"Sex\": \"M\", \"Count\": 23}, {\"Year\": 1976, \"Name\": \"Dick\", \"Sex\": \"M\", \"Count\": 21}, {\"Year\": 1977, \"Name\": \"Dick\", \"Sex\": \"M\", \"Count\": 19}, {\"Year\": 1978, \"Name\": \"Dick\", \"Sex\": \"M\", \"Count\": 21}, {\"Year\": 1979, \"Name\": \"Dick\", \"Sex\": \"M\", \"Count\": 17}, {\"Year\": 1980, \"Name\": \"Dick\", \"Sex\": \"M\", \"Count\": 20}, {\"Year\": 1981, \"Name\": \"Dick\", \"Sex\": \"M\", \"Count\": 9}, {\"Year\": 1982, \"Name\": \"Dick\", \"Sex\": \"M\", \"Count\": 17}, {\"Year\": 1983, \"Name\": \"Dick\", \"Sex\": \"M\", \"Count\": 19}, {\"Year\": 1984, \"Name\": \"Dick\", \"Sex\": \"M\", \"Count\": 11}, {\"Year\": 1985, \"Name\": \"Dick\", \"Sex\": \"M\", \"Count\": 13}, {\"Year\": 1986, \"Name\": \"Dick\", \"Sex\": \"M\", \"Count\": 10}, {\"Year\": 1987, \"Name\": \"Dick\", \"Sex\": \"M\", \"Count\": 12}, {\"Year\": 1989, \"Name\": \"Dick\", \"Sex\": \"M\", \"Count\": 10}, {\"Year\": 1990, \"Name\": \"Dick\", \"Sex\": \"M\", \"Count\": 10}, {\"Year\": 1992, \"Name\": \"Dick\", \"Sex\": \"M\", \"Count\": 5}, {\"Year\": 1993, \"Name\": \"Dick\", \"Sex\": \"M\", \"Count\": 6}, {\"Year\": 1994, \"Name\": \"Dick\", \"Sex\": \"M\", \"Count\": 6}, {\"Year\": 1995, \"Name\": \"Dick\", \"Sex\": \"M\", \"Count\": 6}, {\"Year\": 2000, \"Name\": \"Dick\", \"Sex\": \"M\", \"Count\": 6}, {\"Year\": 2002, \"Name\": \"Dick\", \"Sex\": \"M\", \"Count\": 6}, {\"Year\": 2005, \"Name\": \"Dick\", \"Sex\": \"M\", \"Count\": 5}]}}, {\"mode\": \"vega-lite\"});\n",
       "</script>"
      ],
      "text/plain": [
       "alt.Chart(...)"
      ]
     },
     "metadata": {},
     "output_type": "display_data"
    }
   ],
   "source": [
    "chart_dick = alt.Chart(dick_df).mark_line().encode(\n",
    "    x='Year',\n",
    "    y='Count',\n",
    "    tooltip=['Year', 'Count']\n",
    ").properties(\n",
    "    title='Popularity of the Name \"Dick\" Over Time',\n",
    "    width=800\n",
    ")\n",
    "chart_dick.show()"
   ]
  },
  {
   "cell_type": "code",
   "execution_count": 94,
   "id": "69606d53-a97a-4e62-a0f4-34b337657afe",
   "metadata": {},
   "outputs": [],
   "source": [
    "#most Dick\n",
    "max_count = dick_df['Count'].max()\n",
    "year_most = dick_df[dick_df['Count'] == max_count]['Year'].values[0]\n",
    "\n",
    "#Fewest Dick\n",
    "min_count = dick_df['Count'].min()\n",
    "year_least = dick_df[dick_df['Count'] == min_count]['Year'].values[0]"
   ]
  },
  {
   "cell_type": "code",
   "execution_count": 95,
   "id": "29aad758-c0be-4571-826d-2b5df96fff0a",
   "metadata": {},
   "outputs": [
    {
     "name": "stdout",
     "output_type": "stream",
     "text": [
      "The year with the most occurrences of the name 'Dick' is 1934 with 1131 occurrences.\n",
      "The year with the least occurrences of the name 'Dick' is 1912 with 5 occurrences.\n"
     ]
    }
   ],
   "source": [
    "print(f\"The year with the most occurrences of the name 'Dick' is {year_most} with {max_count} occurrences.\")\n",
    "print(f\"The year with the least occurrences of the name 'Dick' is {year_least} with {min_count} occurrences.\")\n"
   ]
  },
  {
   "cell_type": "code",
   "execution_count": 136,
   "id": "66018f09-acc6-4898-ad69-10c1483c69ae",
   "metadata": {},
   "outputs": [
    {
     "data": {
      "text/plain": [
       "6"
      ]
     },
     "execution_count": 136,
     "metadata": {},
     "output_type": "execute_result"
    }
   ],
   "source": [
    "#Dicks in 2023\n",
    "dick_df[dick_df['Year'] == 2000].Count.sum()"
   ]
  },
  {
   "cell_type": "code",
   "execution_count": 96,
   "id": "059d40c8-2901-4a7d-83c8-27f6866937c1",
   "metadata": {},
   "outputs": [
    {
     "data": {
      "text/plain": [
       "Sex\n",
       "M    117\n",
       "F      8\n",
       "Name: count, dtype: int64"
      ]
     },
     "execution_count": 96,
     "metadata": {},
     "output_type": "execute_result"
    }
   ],
   "source": [
    "dick_df['Sex'].value_counts()"
   ]
  },
  {
   "cell_type": "code",
   "execution_count": 97,
   "id": "d4f72559-f424-4eb3-8726-ffc227d29dc6",
   "metadata": {},
   "outputs": [
    {
     "data": {
      "text/plain": [
       "Sex\n",
       "F       48\n",
       "M    29274\n",
       "Name: Count, dtype: int64"
      ]
     },
     "execution_count": 97,
     "metadata": {},
     "output_type": "execute_result"
    }
   ],
   "source": [
    "dick_df.groupby('Sex')['Count'].sum()"
   ]
  },
  {
   "cell_type": "code",
   "execution_count": 98,
   "id": "80f39a82-f843-47a7-abcd-4149a90935bc",
   "metadata": {},
   "outputs": [
    {
     "data": {
      "text/plain": [
       "array([1912, 1918, 1920, 1925, 1929, 1930, 1931, 1933])"
      ]
     },
     "execution_count": 98,
     "metadata": {},
     "output_type": "execute_result"
    }
   ],
   "source": [
    "# Filter for females named 'Dick'\n",
    "female_dick_df = df[(df['Name'] == 'Dick') & (df['Sex'] == 'F')]\n",
    "\n",
    "# Get the years when females named 'Dick' were born\n",
    "female_dick_df['Year'].unique()"
   ]
  },
  {
   "cell_type": "code",
   "execution_count": 109,
   "id": "52f45f09-fd70-4508-86d0-254278557998",
   "metadata": {},
   "outputs": [
    {
     "data": {
      "text/html": [
       "\n",
       "<style>\n",
       "  #altair-viz-208e8c86b7f34bb59531d4cffc279a09.vega-embed {\n",
       "    width: 100%;\n",
       "    display: flex;\n",
       "  }\n",
       "\n",
       "  #altair-viz-208e8c86b7f34bb59531d4cffc279a09.vega-embed details,\n",
       "  #altair-viz-208e8c86b7f34bb59531d4cffc279a09.vega-embed details summary {\n",
       "    position: relative;\n",
       "  }\n",
       "</style>\n",
       "<div id=\"altair-viz-208e8c86b7f34bb59531d4cffc279a09\"></div>\n",
       "<script type=\"text/javascript\">\n",
       "  var VEGA_DEBUG = (typeof VEGA_DEBUG == \"undefined\") ? {} : VEGA_DEBUG;\n",
       "  (function(spec, embedOpt){\n",
       "    let outputDiv = document.currentScript.previousElementSibling;\n",
       "    if (outputDiv.id !== \"altair-viz-208e8c86b7f34bb59531d4cffc279a09\") {\n",
       "      outputDiv = document.getElementById(\"altair-viz-208e8c86b7f34bb59531d4cffc279a09\");\n",
       "    }\n",
       "    const paths = {\n",
       "      \"vega\": \"https://cdn.jsdelivr.net/npm/vega@5?noext\",\n",
       "      \"vega-lib\": \"https://cdn.jsdelivr.net/npm/vega-lib?noext\",\n",
       "      \"vega-lite\": \"https://cdn.jsdelivr.net/npm/vega-lite@5.17.0?noext\",\n",
       "      \"vega-embed\": \"https://cdn.jsdelivr.net/npm/vega-embed@6?noext\",\n",
       "    };\n",
       "\n",
       "    function maybeLoadScript(lib, version) {\n",
       "      var key = `${lib.replace(\"-\", \"\")}_version`;\n",
       "      return (VEGA_DEBUG[key] == version) ?\n",
       "        Promise.resolve(paths[lib]) :\n",
       "        new Promise(function(resolve, reject) {\n",
       "          var s = document.createElement('script');\n",
       "          document.getElementsByTagName(\"head\")[0].appendChild(s);\n",
       "          s.async = true;\n",
       "          s.onload = () => {\n",
       "            VEGA_DEBUG[key] = version;\n",
       "            return resolve(paths[lib]);\n",
       "          };\n",
       "          s.onerror = () => reject(`Error loading script: ${paths[lib]}`);\n",
       "          s.src = paths[lib];\n",
       "        });\n",
       "    }\n",
       "\n",
       "    function showError(err) {\n",
       "      outputDiv.innerHTML = `<div class=\"error\" style=\"color:red;\">${err}</div>`;\n",
       "      throw err;\n",
       "    }\n",
       "\n",
       "    function displayChart(vegaEmbed) {\n",
       "      vegaEmbed(outputDiv, spec, embedOpt)\n",
       "        .catch(err => showError(`Javascript Error: ${err.message}<br>This usually means there's a typo in your chart specification. See the javascript console for the full traceback.`));\n",
       "    }\n",
       "\n",
       "    if(typeof define === \"function\" && define.amd) {\n",
       "      requirejs.config({paths});\n",
       "      require([\"vega-embed\"], displayChart, err => showError(`Error loading script: ${err.message}`));\n",
       "    } else {\n",
       "      maybeLoadScript(\"vega\", \"5\")\n",
       "        .then(() => maybeLoadScript(\"vega-lite\", \"5.17.0\"))\n",
       "        .then(() => maybeLoadScript(\"vega-embed\", \"6\"))\n",
       "        .catch(showError)\n",
       "        .then(() => displayChart(vegaEmbed));\n",
       "    }\n",
       "  })({\"config\": {\"view\": {\"continuousWidth\": 300, \"continuousHeight\": 300}}, \"data\": {\"name\": \"data-0af060012efdfad1dd416568afc9bcec\"}, \"mark\": {\"type\": \"line\"}, \"encoding\": {\"tooltip\": [{\"field\": \"Year\", \"type\": \"quantitative\"}, {\"field\": \"Count\", \"type\": \"quantitative\"}], \"x\": {\"field\": \"Year\", \"type\": \"quantitative\"}, \"y\": {\"field\": \"Count\", \"type\": \"quantitative\"}}, \"title\": \"Count of the Name \\\"Dick\\\" Over Time for Women\", \"width\": 800, \"$schema\": \"https://vega.github.io/schema/vega-lite/v5.17.0.json\", \"datasets\": {\"data-0af060012efdfad1dd416568afc9bcec\": [{\"Year\": 1912, \"Name\": \"Dick\", \"Sex\": \"F\", \"Count\": 5}, {\"Year\": 1918, \"Name\": \"Dick\", \"Sex\": \"F\", \"Count\": 6}, {\"Year\": 1920, \"Name\": \"Dick\", \"Sex\": \"F\", \"Count\": 7}, {\"Year\": 1925, \"Name\": \"Dick\", \"Sex\": \"F\", \"Count\": 8}, {\"Year\": 1929, \"Name\": \"Dick\", \"Sex\": \"F\", \"Count\": 5}, {\"Year\": 1930, \"Name\": \"Dick\", \"Sex\": \"F\", \"Count\": 6}, {\"Year\": 1931, \"Name\": \"Dick\", \"Sex\": \"F\", \"Count\": 6}, {\"Year\": 1933, \"Name\": \"Dick\", \"Sex\": \"F\", \"Count\": 5}]}}, {\"mode\": \"vega-lite\"});\n",
       "</script>"
      ],
      "text/plain": [
       "alt.Chart(...)"
      ]
     },
     "metadata": {},
     "output_type": "display_data"
    }
   ],
   "source": [
    "chart_female_dick = alt.Chart(female_dick_df).mark_line().encode(\n",
    "    x='Year',\n",
    "    y='Count',\n",
    "    tooltip=['Year', 'Count']\n",
    ").properties(\n",
    "    title='Count of the Name \"Dick\" Over Time for Women',\n",
    "    width=800\n",
    ")\n",
    "chart_female_dick.show()"
   ]
  },
  {
   "cell_type": "code",
   "execution_count": 99,
   "id": "42a291d8-9cc0-448c-81d7-27af73125eb5",
   "metadata": {},
   "outputs": [
    {
     "name": "stdout",
     "output_type": "stream",
     "text": [
      "         Year     Name Sex  Count\n",
      "964      1880  Richard   M    728\n",
      "2959     1881  Richard   M    641\n",
      "4983     1882  Richard   M    746\n",
      "7135     1883  Richard   M    649\n",
      "9339     1884  Richard   M    749\n",
      "...       ...      ...  ..    ...\n",
      "2007733  2020  Richard   M   1824\n",
      "2039401  2021  Richard   M   1778\n",
      "2068095  2022  Richard   F      6\n",
      "2071121  2022  Richard   M   1673\n",
      "2102911  2023  Richard   M   1638\n",
      "\n",
      "[265 rows x 4 columns]\n"
     ]
    }
   ],
   "source": [
    "Richard_df = df[df['Name'] == 'Richard']\n",
    "print(Richard_df)"
   ]
  },
  {
   "cell_type": "code",
   "execution_count": 117,
   "id": "4310ea9f-a0a4-485e-8085-183f73a48693",
   "metadata": {},
   "outputs": [
    {
     "data": {
      "text/html": [
       "\n",
       "<style>\n",
       "  #altair-viz-c462a3704e3942388a4928aa888c850a.vega-embed {\n",
       "    width: 100%;\n",
       "    display: flex;\n",
       "  }\n",
       "\n",
       "  #altair-viz-c462a3704e3942388a4928aa888c850a.vega-embed details,\n",
       "  #altair-viz-c462a3704e3942388a4928aa888c850a.vega-embed details summary {\n",
       "    position: relative;\n",
       "  }\n",
       "</style>\n",
       "<div id=\"altair-viz-c462a3704e3942388a4928aa888c850a\"></div>\n",
       "<script type=\"text/javascript\">\n",
       "  var VEGA_DEBUG = (typeof VEGA_DEBUG == \"undefined\") ? {} : VEGA_DEBUG;\n",
       "  (function(spec, embedOpt){\n",
       "    let outputDiv = document.currentScript.previousElementSibling;\n",
       "    if (outputDiv.id !== \"altair-viz-c462a3704e3942388a4928aa888c850a\") {\n",
       "      outputDiv = document.getElementById(\"altair-viz-c462a3704e3942388a4928aa888c850a\");\n",
       "    }\n",
       "    const paths = {\n",
       "      \"vega\": \"https://cdn.jsdelivr.net/npm/vega@5?noext\",\n",
       "      \"vega-lib\": \"https://cdn.jsdelivr.net/npm/vega-lib?noext\",\n",
       "      \"vega-lite\": \"https://cdn.jsdelivr.net/npm/vega-lite@5.17.0?noext\",\n",
       "      \"vega-embed\": \"https://cdn.jsdelivr.net/npm/vega-embed@6?noext\",\n",
       "    };\n",
       "\n",
       "    function maybeLoadScript(lib, version) {\n",
       "      var key = `${lib.replace(\"-\", \"\")}_version`;\n",
       "      return (VEGA_DEBUG[key] == version) ?\n",
       "        Promise.resolve(paths[lib]) :\n",
       "        new Promise(function(resolve, reject) {\n",
       "          var s = document.createElement('script');\n",
       "          document.getElementsByTagName(\"head\")[0].appendChild(s);\n",
       "          s.async = true;\n",
       "          s.onload = () => {\n",
       "            VEGA_DEBUG[key] = version;\n",
       "            return resolve(paths[lib]);\n",
       "          };\n",
       "          s.onerror = () => reject(`Error loading script: ${paths[lib]}`);\n",
       "          s.src = paths[lib];\n",
       "        });\n",
       "    }\n",
       "\n",
       "    function showError(err) {\n",
       "      outputDiv.innerHTML = `<div class=\"error\" style=\"color:red;\">${err}</div>`;\n",
       "      throw err;\n",
       "    }\n",
       "\n",
       "    function displayChart(vegaEmbed) {\n",
       "      vegaEmbed(outputDiv, spec, embedOpt)\n",
       "        .catch(err => showError(`Javascript Error: ${err.message}<br>This usually means there's a typo in your chart specification. See the javascript console for the full traceback.`));\n",
       "    }\n",
       "\n",
       "    if(typeof define === \"function\" && define.amd) {\n",
       "      requirejs.config({paths});\n",
       "      require([\"vega-embed\"], displayChart, err => showError(`Error loading script: ${err.message}`));\n",
       "    } else {\n",
       "      maybeLoadScript(\"vega\", \"5\")\n",
       "        .then(() => maybeLoadScript(\"vega-lite\", \"5.17.0\"))\n",
       "        .then(() => maybeLoadScript(\"vega-embed\", \"6\"))\n",
       "        .catch(showError)\n",
       "        .then(() => displayChart(vegaEmbed));\n",
       "    }\n",
       "  })({\"config\": {\"view\": {\"continuousWidth\": 300, \"continuousHeight\": 300}}, \"data\": {\"name\": \"data-9c92c335fcc3b1b31175ad814aee38a7\"}, \"mark\": {\"type\": \"line\"}, \"encoding\": {\"tooltip\": [{\"field\": \"Year\", \"type\": \"quantitative\"}, {\"field\": \"Count\", \"type\": \"quantitative\"}], \"x\": {\"field\": \"Year\", \"type\": \"quantitative\"}, \"y\": {\"field\": \"Count\", \"type\": \"quantitative\"}}, \"title\": \"Popularity of the Name \\\"Richard\\\"\", \"$schema\": \"https://vega.github.io/schema/vega-lite/v5.17.0.json\", \"datasets\": {\"data-9c92c335fcc3b1b31175ad814aee38a7\": [{\"Year\": 1880, \"Name\": \"Richard\", \"Sex\": \"M\", \"Count\": 728}, {\"Year\": 1881, \"Name\": \"Richard\", \"Sex\": \"M\", \"Count\": 641}, {\"Year\": 1882, \"Name\": \"Richard\", \"Sex\": \"M\", \"Count\": 746}, {\"Year\": 1883, \"Name\": \"Richard\", \"Sex\": \"M\", \"Count\": 649}, {\"Year\": 1884, \"Name\": \"Richard\", \"Sex\": \"M\", \"Count\": 749}, {\"Year\": 1885, \"Name\": \"Richard\", \"Sex\": \"M\", \"Count\": 672}, {\"Year\": 1886, \"Name\": \"Richard\", \"Sex\": \"F\", \"Count\": 8}, {\"Year\": 1886, \"Name\": \"Richard\", \"Sex\": \"M\", \"Count\": 720}, {\"Year\": 1887, \"Name\": \"Richard\", \"Sex\": \"F\", \"Count\": 7}, {\"Year\": 1887, \"Name\": \"Richard\", \"Sex\": \"M\", \"Count\": 622}, {\"Year\": 1888, \"Name\": \"Richard\", \"Sex\": \"F\", \"Count\": 8}, {\"Year\": 1888, \"Name\": \"Richard\", \"Sex\": \"M\", \"Count\": 772}, {\"Year\": 1889, \"Name\": \"Richard\", \"Sex\": \"F\", \"Count\": 5}, {\"Year\": 1889, \"Name\": \"Richard\", \"Sex\": \"M\", \"Count\": 711}, {\"Year\": 1890, \"Name\": \"Richard\", \"Sex\": \"M\", \"Count\": 743}, {\"Year\": 1891, \"Name\": \"Richard\", \"Sex\": \"M\", \"Count\": 609}, {\"Year\": 1892, \"Name\": \"Richard\", \"Sex\": \"F\", \"Count\": 7}, {\"Year\": 1892, \"Name\": \"Richard\", \"Sex\": \"M\", \"Count\": 802}, {\"Year\": 1893, \"Name\": \"Richard\", \"Sex\": \"M\", \"Count\": 732}, {\"Year\": 1894, \"Name\": \"Richard\", \"Sex\": \"M\", \"Count\": 808}, {\"Year\": 1895, \"Name\": \"Richard\", \"Sex\": \"F\", \"Count\": 7}, {\"Year\": 1895, \"Name\": \"Richard\", \"Sex\": \"M\", \"Count\": 727}, {\"Year\": 1896, \"Name\": \"Richard\", \"Sex\": \"F\", \"Count\": 5}, {\"Year\": 1896, \"Name\": \"Richard\", \"Sex\": \"M\", \"Count\": 834}, {\"Year\": 1897, \"Name\": \"Richard\", \"Sex\": \"F\", \"Count\": 7}, {\"Year\": 1897, \"Name\": \"Richard\", \"Sex\": \"M\", \"Count\": 702}, {\"Year\": 1898, \"Name\": \"Richard\", \"Sex\": \"F\", \"Count\": 13}, {\"Year\": 1898, \"Name\": \"Richard\", \"Sex\": \"M\", \"Count\": 871}, {\"Year\": 1899, \"Name\": \"Richard\", \"Sex\": \"F\", \"Count\": 5}, {\"Year\": 1899, \"Name\": \"Richard\", \"Sex\": \"M\", \"Count\": 744}, {\"Year\": 1900, \"Name\": \"Richard\", \"Sex\": \"M\", \"Count\": 1141}, {\"Year\": 1901, \"Name\": \"Richard\", \"Sex\": \"F\", \"Count\": 8}, {\"Year\": 1901, \"Name\": \"Richard\", \"Sex\": \"M\", \"Count\": 784}, {\"Year\": 1902, \"Name\": \"Richard\", \"Sex\": \"F\", \"Count\": 6}, {\"Year\": 1902, \"Name\": \"Richard\", \"Sex\": \"M\", \"Count\": 908}, {\"Year\": 1903, \"Name\": \"Richard\", \"Sex\": \"F\", \"Count\": 6}, {\"Year\": 1903, \"Name\": \"Richard\", \"Sex\": \"M\", \"Count\": 863}, {\"Year\": 1904, \"Name\": \"Richard\", \"Sex\": \"F\", \"Count\": 8}, {\"Year\": 1904, \"Name\": \"Richard\", \"Sex\": \"M\", \"Count\": 957}, {\"Year\": 1905, \"Name\": \"Richard\", \"Sex\": \"M\", \"Count\": 1033}, {\"Year\": 1906, \"Name\": \"Richard\", \"Sex\": \"F\", \"Count\": 8}, {\"Year\": 1906, \"Name\": \"Richard\", \"Sex\": \"M\", \"Count\": 1084}, {\"Year\": 1907, \"Name\": \"Richard\", \"Sex\": \"F\", \"Count\": 10}, {\"Year\": 1907, \"Name\": \"Richard\", \"Sex\": \"M\", \"Count\": 1235}, {\"Year\": 1908, \"Name\": \"Richard\", \"Sex\": \"F\", \"Count\": 6}, {\"Year\": 1908, \"Name\": \"Richard\", \"Sex\": \"M\", \"Count\": 1244}, {\"Year\": 1909, \"Name\": \"Richard\", \"Sex\": \"F\", \"Count\": 7}, {\"Year\": 1909, \"Name\": \"Richard\", \"Sex\": \"M\", \"Count\": 1427}, {\"Year\": 1910, \"Name\": \"Richard\", \"Sex\": \"F\", \"Count\": 9}, {\"Year\": 1910, \"Name\": \"Richard\", \"Sex\": \"M\", \"Count\": 1654}, {\"Year\": 1911, \"Name\": \"Richard\", \"Sex\": \"F\", \"Count\": 11}, {\"Year\": 1911, \"Name\": \"Richard\", \"Sex\": \"M\", \"Count\": 2030}, {\"Year\": 1912, \"Name\": \"Richard\", \"Sex\": \"F\", \"Count\": 23}, {\"Year\": 1912, \"Name\": \"Richard\", \"Sex\": \"M\", \"Count\": 4188}, {\"Year\": 1913, \"Name\": \"Richard\", \"Sex\": \"F\", \"Count\": 22}, {\"Year\": 1913, \"Name\": \"Richard\", \"Sex\": \"M\", \"Count\": 5107}, {\"Year\": 1914, \"Name\": \"Richard\", \"Sex\": \"F\", \"Count\": 30}, {\"Year\": 1914, \"Name\": \"Richard\", \"Sex\": \"M\", \"Count\": 6669}, {\"Year\": 1915, \"Name\": \"Richard\", \"Sex\": \"F\", \"Count\": 39}, {\"Year\": 1915, \"Name\": \"Richard\", \"Sex\": \"M\", \"Count\": 9143}, {\"Year\": 1916, \"Name\": \"Richard\", \"Sex\": \"F\", \"Count\": 43}, {\"Year\": 1916, \"Name\": \"Richard\", \"Sex\": \"M\", \"Count\": 10134}, {\"Year\": 1917, \"Name\": \"Richard\", \"Sex\": \"F\", \"Count\": 47}, {\"Year\": 1917, \"Name\": \"Richard\", \"Sex\": \"M\", \"Count\": 10914}, {\"Year\": 1918, \"Name\": \"Richard\", \"Sex\": \"F\", \"Count\": 51}, {\"Year\": 1918, \"Name\": \"Richard\", \"Sex\": \"M\", \"Count\": 12323}, {\"Year\": 1919, \"Name\": \"Richard\", \"Sex\": \"F\", \"Count\": 74}, {\"Year\": 1919, \"Name\": \"Richard\", \"Sex\": \"M\", \"Count\": 12441}, {\"Year\": 1920, \"Name\": \"Richard\", \"Sex\": \"F\", \"Count\": 54}, {\"Year\": 1920, \"Name\": \"Richard\", \"Sex\": \"M\", \"Count\": 15010}, {\"Year\": 1921, \"Name\": \"Richard\", \"Sex\": \"F\", \"Count\": 71}, {\"Year\": 1921, \"Name\": \"Richard\", \"Sex\": \"M\", \"Count\": 16376}, {\"Year\": 1922, \"Name\": \"Richard\", \"Sex\": \"F\", \"Count\": 75}, {\"Year\": 1922, \"Name\": \"Richard\", \"Sex\": \"M\", \"Count\": 17537}, {\"Year\": 1923, \"Name\": \"Richard\", \"Sex\": \"F\", \"Count\": 78}, {\"Year\": 1923, \"Name\": \"Richard\", \"Sex\": \"M\", \"Count\": 18887}, {\"Year\": 1924, \"Name\": \"Richard\", \"Sex\": \"F\", \"Count\": 94}, {\"Year\": 1924, \"Name\": \"Richard\", \"Sex\": \"M\", \"Count\": 21244}, {\"Year\": 1925, \"Name\": \"Richard\", \"Sex\": \"F\", \"Count\": 107}, {\"Year\": 1925, \"Name\": \"Richard\", \"Sex\": \"M\", \"Count\": 23270}, {\"Year\": 1926, \"Name\": \"Richard\", \"Sex\": \"F\", \"Count\": 119}, {\"Year\": 1926, \"Name\": \"Richard\", \"Sex\": \"M\", \"Count\": 25142}, {\"Year\": 1927, \"Name\": \"Richard\", \"Sex\": \"F\", \"Count\": 161}, {\"Year\": 1927, \"Name\": \"Richard\", \"Sex\": \"M\", \"Count\": 26767}, {\"Year\": 1928, \"Name\": \"Richard\", \"Sex\": \"F\", \"Count\": 201}, {\"Year\": 1928, \"Name\": \"Richard\", \"Sex\": \"M\", \"Count\": 28793}, {\"Year\": 1929, \"Name\": \"Richard\", \"Sex\": \"F\", \"Count\": 200}, {\"Year\": 1929, \"Name\": \"Richard\", \"Sex\": \"M\", \"Count\": 29576}, {\"Year\": 1930, \"Name\": \"Richard\", \"Sex\": \"F\", \"Count\": 164}, {\"Year\": 1930, \"Name\": \"Richard\", \"Sex\": \"M\", \"Count\": 32180}, {\"Year\": 1931, \"Name\": \"Richard\", \"Sex\": \"F\", \"Count\": 151}, {\"Year\": 1931, \"Name\": \"Richard\", \"Sex\": \"M\", \"Count\": 31822}, {\"Year\": 1932, \"Name\": \"Richard\", \"Sex\": \"F\", \"Count\": 138}, {\"Year\": 1932, \"Name\": \"Richard\", \"Sex\": \"M\", \"Count\": 31806}, {\"Year\": 1933, \"Name\": \"Richard\", \"Sex\": \"F\", \"Count\": 126}, {\"Year\": 1933, \"Name\": \"Richard\", \"Sex\": \"M\", \"Count\": 31333}, {\"Year\": 1934, \"Name\": \"Richard\", \"Sex\": \"F\", \"Count\": 129}, {\"Year\": 1934, \"Name\": \"Richard\", \"Sex\": \"M\", \"Count\": 33165}, {\"Year\": 1935, \"Name\": \"Richard\", \"Sex\": \"F\", \"Count\": 128}, {\"Year\": 1935, \"Name\": \"Richard\", \"Sex\": \"M\", \"Count\": 33947}, {\"Year\": 1936, \"Name\": \"Richard\", \"Sex\": \"F\", \"Count\": 98}, {\"Year\": 1936, \"Name\": \"Richard\", \"Sex\": \"M\", \"Count\": 33490}, {\"Year\": 1937, \"Name\": \"Richard\", \"Sex\": \"F\", \"Count\": 118}, {\"Year\": 1937, \"Name\": \"Richard\", \"Sex\": \"M\", \"Count\": 32974}, {\"Year\": 1938, \"Name\": \"Richard\", \"Sex\": \"F\", \"Count\": 121}, {\"Year\": 1938, \"Name\": \"Richard\", \"Sex\": \"M\", \"Count\": 34385}, {\"Year\": 1939, \"Name\": \"Richard\", \"Sex\": \"F\", \"Count\": 107}, {\"Year\": 1939, \"Name\": \"Richard\", \"Sex\": \"M\", \"Count\": 35379}, {\"Year\": 1940, \"Name\": \"Richard\", \"Sex\": \"F\", \"Count\": 108}, {\"Year\": 1940, \"Name\": \"Richard\", \"Sex\": \"M\", \"Count\": 37427}, {\"Year\": 1941, \"Name\": \"Richard\", \"Sex\": \"F\", \"Count\": 120}, {\"Year\": 1941, \"Name\": \"Richard\", \"Sex\": \"M\", \"Count\": 39109}, {\"Year\": 1942, \"Name\": \"Richard\", \"Sex\": \"F\", \"Count\": 127}, {\"Year\": 1942, \"Name\": \"Richard\", \"Sex\": \"M\", \"Count\": 43588}, {\"Year\": 1943, \"Name\": \"Richard\", \"Sex\": \"F\", \"Count\": 119}, {\"Year\": 1943, \"Name\": \"Richard\", \"Sex\": \"M\", \"Count\": 46335}, {\"Year\": 1944, \"Name\": \"Richard\", \"Sex\": \"F\", \"Count\": 97}, {\"Year\": 1944, \"Name\": \"Richard\", \"Sex\": \"M\", \"Count\": 45641}, {\"Year\": 1945, \"Name\": \"Richard\", \"Sex\": \"F\", \"Count\": 106}, {\"Year\": 1945, \"Name\": \"Richard\", \"Sex\": \"M\", \"Count\": 46046}, {\"Year\": 1946, \"Name\": \"Richard\", \"Sex\": \"F\", \"Count\": 120}, {\"Year\": 1946, \"Name\": \"Richard\", \"Sex\": \"M\", \"Count\": 58868}, {\"Year\": 1947, \"Name\": \"Richard\", \"Sex\": \"F\", \"Count\": 144}, {\"Year\": 1947, \"Name\": \"Richard\", \"Sex\": \"M\", \"Count\": 58529}, {\"Year\": 1948, \"Name\": \"Richard\", \"Sex\": \"F\", \"Count\": 120}, {\"Year\": 1948, \"Name\": \"Richard\", \"Sex\": \"M\", \"Count\": 50971}, {\"Year\": 1949, \"Name\": \"Richard\", \"Sex\": \"F\", \"Count\": 115}, {\"Year\": 1949, \"Name\": \"Richard\", \"Sex\": \"M\", \"Count\": 50944}, {\"Year\": 1950, \"Name\": \"Richard\", \"Sex\": \"F\", \"Count\": 96}, {\"Year\": 1950, \"Name\": \"Richard\", \"Sex\": \"M\", \"Count\": 51002}, {\"Year\": 1951, \"Name\": \"Richard\", \"Sex\": \"F\", \"Count\": 94}, {\"Year\": 1951, \"Name\": \"Richard\", \"Sex\": \"M\", \"Count\": 54546}, {\"Year\": 1952, \"Name\": \"Richard\", \"Sex\": \"F\", \"Count\": 105}, {\"Year\": 1952, \"Name\": \"Richard\", \"Sex\": \"M\", \"Count\": 58348}, {\"Year\": 1953, \"Name\": \"Richard\", \"Sex\": \"F\", \"Count\": 134}, {\"Year\": 1953, \"Name\": \"Richard\", \"Sex\": \"M\", \"Count\": 58388}, {\"Year\": 1954, \"Name\": \"Richard\", \"Sex\": \"F\", \"Count\": 103}, {\"Year\": 1954, \"Name\": \"Richard\", \"Sex\": \"M\", \"Count\": 57050}, {\"Year\": 1955, \"Name\": \"Richard\", \"Sex\": \"F\", \"Count\": 125}, {\"Year\": 1955, \"Name\": \"Richard\", \"Sex\": \"M\", \"Count\": 53563}, {\"Year\": 1956, \"Name\": \"Richard\", \"Sex\": \"F\", \"Count\": 130}, {\"Year\": 1956, \"Name\": \"Richard\", \"Sex\": \"M\", \"Count\": 52907}, {\"Year\": 1957, \"Name\": \"Richard\", \"Sex\": \"F\", \"Count\": 117}, {\"Year\": 1957, \"Name\": \"Richard\", \"Sex\": \"M\", \"Count\": 52459}, {\"Year\": 1958, \"Name\": \"Richard\", \"Sex\": \"F\", \"Count\": 119}, {\"Year\": 1958, \"Name\": \"Richard\", \"Sex\": \"M\", \"Count\": 49960}, {\"Year\": 1959, \"Name\": \"Richard\", \"Sex\": \"F\", \"Count\": 129}, {\"Year\": 1959, \"Name\": \"Richard\", \"Sex\": \"M\", \"Count\": 47185}, {\"Year\": 1960, \"Name\": \"Richard\", \"Sex\": \"F\", \"Count\": 124}, {\"Year\": 1960, \"Name\": \"Richard\", \"Sex\": \"M\", \"Count\": 43547}, {\"Year\": 1961, \"Name\": \"Richard\", \"Sex\": \"F\", \"Count\": 130}, {\"Year\": 1961, \"Name\": \"Richard\", \"Sex\": \"M\", \"Count\": 41125}, {\"Year\": 1962, \"Name\": \"Richard\", \"Sex\": \"F\", \"Count\": 140}, {\"Year\": 1962, \"Name\": \"Richard\", \"Sex\": \"M\", \"Count\": 39410}, {\"Year\": 1963, \"Name\": \"Richard\", \"Sex\": \"F\", \"Count\": 154}, {\"Year\": 1963, \"Name\": \"Richard\", \"Sex\": \"M\", \"Count\": 40774}, {\"Year\": 1964, \"Name\": \"Richard\", \"Sex\": \"F\", \"Count\": 136}, {\"Year\": 1964, \"Name\": \"Richard\", \"Sex\": \"M\", \"Count\": 40101}, {\"Year\": 1965, \"Name\": \"Richard\", \"Sex\": \"F\", \"Count\": 134}, {\"Year\": 1965, \"Name\": \"Richard\", \"Sex\": \"M\", \"Count\": 36833}, {\"Year\": 1966, \"Name\": \"Richard\", \"Sex\": \"F\", \"Count\": 145}, {\"Year\": 1966, \"Name\": \"Richard\", \"Sex\": \"M\", \"Count\": 34460}, {\"Year\": 1967, \"Name\": \"Richard\", \"Sex\": \"F\", \"Count\": 166}, {\"Year\": 1967, \"Name\": \"Richard\", \"Sex\": \"M\", \"Count\": 33583}, {\"Year\": 1968, \"Name\": \"Richard\", \"Sex\": \"F\", \"Count\": 163}, {\"Year\": 1968, \"Name\": \"Richard\", \"Sex\": \"M\", \"Count\": 32976}, {\"Year\": 1969, \"Name\": \"Richard\", \"Sex\": \"F\", \"Count\": 173}, {\"Year\": 1969, \"Name\": \"Richard\", \"Sex\": \"M\", \"Count\": 31093}, {\"Year\": 1970, \"Name\": \"Richard\", \"Sex\": \"F\", \"Count\": 160}, {\"Year\": 1970, \"Name\": \"Richard\", \"Sex\": \"M\", \"Count\": 30443}, {\"Year\": 1971, \"Name\": \"Richard\", \"Sex\": \"F\", \"Count\": 144}, {\"Year\": 1971, \"Name\": \"Richard\", \"Sex\": \"M\", \"Count\": 26159}, {\"Year\": 1972, \"Name\": \"Richard\", \"Sex\": \"F\", \"Count\": 139}, {\"Year\": 1972, \"Name\": \"Richard\", \"Sex\": \"M\", \"Count\": 22307}, {\"Year\": 1973, \"Name\": \"Richard\", \"Sex\": \"F\", \"Count\": 138}, {\"Year\": 1973, \"Name\": \"Richard\", \"Sex\": \"M\", \"Count\": 19945}, {\"Year\": 1974, \"Name\": \"Richard\", \"Sex\": \"F\", \"Count\": 90}, {\"Year\": 1974, \"Name\": \"Richard\", \"Sex\": \"M\", \"Count\": 18639}, {\"Year\": 1975, \"Name\": \"Richard\", \"Sex\": \"F\", \"Count\": 130}, {\"Year\": 1975, \"Name\": \"Richard\", \"Sex\": \"M\", \"Count\": 17690}, {\"Year\": 1976, \"Name\": \"Richard\", \"Sex\": \"F\", \"Count\": 128}, {\"Year\": 1976, \"Name\": \"Richard\", \"Sex\": \"M\", \"Count\": 16757}, {\"Year\": 1977, \"Name\": \"Richard\", \"Sex\": \"F\", \"Count\": 131}, {\"Year\": 1977, \"Name\": \"Richard\", \"Sex\": \"M\", \"Count\": 17443}, {\"Year\": 1978, \"Name\": \"Richard\", \"Sex\": \"F\", \"Count\": 95}, {\"Year\": 1978, \"Name\": \"Richard\", \"Sex\": \"M\", \"Count\": 16732}, {\"Year\": 1979, \"Name\": \"Richard\", \"Sex\": \"F\", \"Count\": 123}, {\"Year\": 1979, \"Name\": \"Richard\", \"Sex\": \"M\", \"Count\": 16717}, {\"Year\": 1980, \"Name\": \"Richard\", \"Sex\": \"F\", \"Count\": 121}, {\"Year\": 1980, \"Name\": \"Richard\", \"Sex\": \"M\", \"Count\": 16659}, {\"Year\": 1981, \"Name\": \"Richard\", \"Sex\": \"F\", \"Count\": 115}, {\"Year\": 1981, \"Name\": \"Richard\", \"Sex\": \"M\", \"Count\": 16854}, {\"Year\": 1982, \"Name\": \"Richard\", \"Sex\": \"F\", \"Count\": 132}, {\"Year\": 1982, \"Name\": \"Richard\", \"Sex\": \"M\", \"Count\": 16721}, {\"Year\": 1983, \"Name\": \"Richard\", \"Sex\": \"F\", \"Count\": 127}, {\"Year\": 1983, \"Name\": \"Richard\", \"Sex\": \"M\", \"Count\": 15892}, {\"Year\": 1984, \"Name\": \"Richard\", \"Sex\": \"F\", \"Count\": 106}, {\"Year\": 1984, \"Name\": \"Richard\", \"Sex\": \"M\", \"Count\": 15606}, {\"Year\": 1985, \"Name\": \"Richard\", \"Sex\": \"F\", \"Count\": 116}, {\"Year\": 1985, \"Name\": \"Richard\", \"Sex\": \"M\", \"Count\": 15331}, {\"Year\": 1986, \"Name\": \"Richard\", \"Sex\": \"F\", \"Count\": 122}, {\"Year\": 1986, \"Name\": \"Richard\", \"Sex\": \"M\", \"Count\": 15010}, {\"Year\": 1987, \"Name\": \"Richard\", \"Sex\": \"F\", \"Count\": 111}, {\"Year\": 1987, \"Name\": \"Richard\", \"Sex\": \"M\", \"Count\": 14404}, {\"Year\": 1988, \"Name\": \"Richard\", \"Sex\": \"F\", \"Count\": 111}, {\"Year\": 1988, \"Name\": \"Richard\", \"Sex\": \"M\", \"Count\": 14145}, {\"Year\": 1989, \"Name\": \"Richard\", \"Sex\": \"F\", \"Count\": 69}, {\"Year\": 1989, \"Name\": \"Richard\", \"Sex\": \"M\", \"Count\": 14137}, {\"Year\": 1990, \"Name\": \"Richard\", \"Sex\": \"F\", \"Count\": 54}, {\"Year\": 1990, \"Name\": \"Richard\", \"Sex\": \"M\", \"Count\": 13577}, {\"Year\": 1991, \"Name\": \"Richard\", \"Sex\": \"F\", \"Count\": 55}, {\"Year\": 1991, \"Name\": \"Richard\", \"Sex\": \"M\", \"Count\": 12554}, {\"Year\": 1992, \"Name\": \"Richard\", \"Sex\": \"F\", \"Count\": 32}, {\"Year\": 1992, \"Name\": \"Richard\", \"Sex\": \"M\", \"Count\": 11329}, {\"Year\": 1993, \"Name\": \"Richard\", \"Sex\": \"F\", \"Count\": 28}, {\"Year\": 1993, \"Name\": \"Richard\", \"Sex\": \"M\", \"Count\": 10231}, {\"Year\": 1994, \"Name\": \"Richard\", \"Sex\": \"F\", \"Count\": 36}, {\"Year\": 1994, \"Name\": \"Richard\", \"Sex\": \"M\", \"Count\": 9514}, {\"Year\": 1995, \"Name\": \"Richard\", \"Sex\": \"F\", \"Count\": 22}, {\"Year\": 1995, \"Name\": \"Richard\", \"Sex\": \"M\", \"Count\": 8783}, {\"Year\": 1996, \"Name\": \"Richard\", \"Sex\": \"F\", \"Count\": 29}, {\"Year\": 1996, \"Name\": \"Richard\", \"Sex\": \"M\", \"Count\": 8180}, {\"Year\": 1997, \"Name\": \"Richard\", \"Sex\": \"F\", \"Count\": 16}, {\"Year\": 1997, \"Name\": \"Richard\", \"Sex\": \"M\", \"Count\": 7242}, {\"Year\": 1998, \"Name\": \"Richard\", \"Sex\": \"F\", \"Count\": 14}, {\"Year\": 1998, \"Name\": \"Richard\", \"Sex\": \"M\", \"Count\": 6954}, {\"Year\": 1999, \"Name\": \"Richard\", \"Sex\": \"F\", \"Count\": 12}, {\"Year\": 1999, \"Name\": \"Richard\", \"Sex\": \"M\", \"Count\": 6501}, {\"Year\": 2000, \"Name\": \"Richard\", \"Sex\": \"F\", \"Count\": 11}, {\"Year\": 2000, \"Name\": \"Richard\", \"Sex\": \"M\", \"Count\": 6354}, {\"Year\": 2001, \"Name\": \"Richard\", \"Sex\": \"F\", \"Count\": 11}, {\"Year\": 2001, \"Name\": \"Richard\", \"Sex\": \"M\", \"Count\": 5771}, {\"Year\": 2002, \"Name\": \"Richard\", \"Sex\": \"F\", \"Count\": 11}, {\"Year\": 2002, \"Name\": \"Richard\", \"Sex\": \"M\", \"Count\": 5321}, {\"Year\": 2003, \"Name\": \"Richard\", \"Sex\": \"F\", \"Count\": 10}, {\"Year\": 2003, \"Name\": \"Richard\", \"Sex\": \"M\", \"Count\": 5054}, {\"Year\": 2004, \"Name\": \"Richard\", \"Sex\": \"F\", \"Count\": 23}, {\"Year\": 2004, \"Name\": \"Richard\", \"Sex\": \"M\", \"Count\": 4848}, {\"Year\": 2005, \"Name\": \"Richard\", \"Sex\": \"F\", \"Count\": 5}, {\"Year\": 2005, \"Name\": \"Richard\", \"Sex\": \"M\", \"Count\": 4667}, {\"Year\": 2006, \"Name\": \"Richard\", \"Sex\": \"F\", \"Count\": 8}, {\"Year\": 2006, \"Name\": \"Richard\", \"Sex\": \"M\", \"Count\": 4467}, {\"Year\": 2007, \"Name\": \"Richard\", \"Sex\": \"F\", \"Count\": 8}, {\"Year\": 2007, \"Name\": \"Richard\", \"Sex\": \"M\", \"Count\": 4424}, {\"Year\": 2008, \"Name\": \"Richard\", \"Sex\": \"F\", \"Count\": 5}, {\"Year\": 2008, \"Name\": \"Richard\", \"Sex\": \"M\", \"Count\": 4058}, {\"Year\": 2009, \"Name\": \"Richard\", \"Sex\": \"F\", \"Count\": 7}, {\"Year\": 2009, \"Name\": \"Richard\", \"Sex\": \"M\", \"Count\": 3611}, {\"Year\": 2010, \"Name\": \"Richard\", \"Sex\": \"F\", \"Count\": 5}, {\"Year\": 2010, \"Name\": \"Richard\", \"Sex\": \"M\", \"Count\": 3238}, {\"Year\": 2011, \"Name\": \"Richard\", \"Sex\": \"M\", \"Count\": 3165}, {\"Year\": 2012, \"Name\": \"Richard\", \"Sex\": \"F\", \"Count\": 5}, {\"Year\": 2012, \"Name\": \"Richard\", \"Sex\": \"M\", \"Count\": 3026}, {\"Year\": 2013, \"Name\": \"Richard\", \"Sex\": \"M\", \"Count\": 2798}, {\"Year\": 2014, \"Name\": \"Richard\", \"Sex\": \"M\", \"Count\": 2885}, {\"Year\": 2015, \"Name\": \"Richard\", \"Sex\": \"M\", \"Count\": 2684}, {\"Year\": 2016, \"Name\": \"Richard\", \"Sex\": \"M\", \"Count\": 2520}, {\"Year\": 2017, \"Name\": \"Richard\", \"Sex\": \"M\", \"Count\": 2283}, {\"Year\": 2018, \"Name\": \"Richard\", \"Sex\": \"M\", \"Count\": 2137}, {\"Year\": 2019, \"Name\": \"Richard\", \"Sex\": \"M\", \"Count\": 1986}, {\"Year\": 2020, \"Name\": \"Richard\", \"Sex\": \"M\", \"Count\": 1824}, {\"Year\": 2021, \"Name\": \"Richard\", \"Sex\": \"M\", \"Count\": 1778}, {\"Year\": 2022, \"Name\": \"Richard\", \"Sex\": \"F\", \"Count\": 6}, {\"Year\": 2022, \"Name\": \"Richard\", \"Sex\": \"M\", \"Count\": 1673}, {\"Year\": 2023, \"Name\": \"Richard\", \"Sex\": \"M\", \"Count\": 1638}]}}, {\"mode\": \"vega-lite\"});\n",
       "</script>"
      ],
      "text/plain": [
       "alt.Chart(...)"
      ]
     },
     "metadata": {},
     "output_type": "display_data"
    }
   ],
   "source": [
    "chart_richard = alt.Chart(Richard_df).mark_line().encode(\n",
    "    x='Year',\n",
    "    y='Count',\n",
    "    tooltip=['Year', 'Count']\n",
    ").properties(\n",
    "    title='Popularity of the Name \"Richard\"',\n",
    ")\n",
    "chart_richard.show()"
   ]
  },
  {
   "cell_type": "code",
   "execution_count": 102,
   "id": "484d101e-0834-4a42-ba78-73761bf704af",
   "metadata": {},
   "outputs": [],
   "source": [
    "#most Richard\n",
    "max_Richard = Richard_df['Count'].max()\n",
    "year_most_Richard = Richard_df[Richard_df['Count'] == max_Richard]['Year'].values[0]\n",
    "\n",
    "#Fewest Richard\n",
    "min_count_Richard = Richard_df['Count'].min()\n",
    "year_least_Richard = Richard_df[Richard_df['Count'] == min_count_Richard]['Year'].values[0]"
   ]
  },
  {
   "cell_type": "code",
   "execution_count": 104,
   "id": "cb892dd0-1e8d-4832-be69-98224c44a10e",
   "metadata": {},
   "outputs": [
    {
     "name": "stdout",
     "output_type": "stream",
     "text": [
      "The year with the most occurrences of the name 'Richard' is 1946 with 58868 occurrences.\n",
      "The year with the least occurrences of the name 'Richard' is 1889 with 5 occurrences.\n"
     ]
    }
   ],
   "source": [
    "print(f\"The year with the most occurrences of the name 'Richard' is {year_most_Richard} with {max_Richard} occurrences.\")\n",
    "print(f\"The year with the least occurrences of the name 'Richard' is {year_least_Richard} with {min_count_Richard} occurrences.\")\n"
   ]
  },
  {
   "cell_type": "code",
   "execution_count": 105,
   "id": "29f1de7d-1886-4823-b389-08a8e95e4d58",
   "metadata": {},
   "outputs": [
    {
     "data": {
      "text/plain": [
       "Sex\n",
       "F       9534\n",
       "M    2574378\n",
       "Name: Count, dtype: int64"
      ]
     },
     "execution_count": 105,
     "metadata": {},
     "output_type": "execute_result"
    }
   ],
   "source": [
    "Richard_df.groupby('Sex')['Count'].sum()"
   ]
  },
  {
   "cell_type": "code",
   "execution_count": 106,
   "id": "0fdc1778-6ece-42f2-9f1f-39f442f6c82d",
   "metadata": {},
   "outputs": [
    {
     "data": {
      "text/plain": [
       "array([1886, 1887, 1888, 1889, 1892, 1895, 1896, 1897, 1898, 1899, 1901,\n",
       "       1902, 1903, 1904, 1906, 1907, 1908, 1909, 1910, 1911, 1912, 1913,\n",
       "       1914, 1915, 1916, 1917, 1918, 1919, 1920, 1921, 1922, 1923, 1924,\n",
       "       1925, 1926, 1927, 1928, 1929, 1930, 1931, 1932, 1933, 1934, 1935,\n",
       "       1936, 1937, 1938, 1939, 1940, 1941, 1942, 1943, 1944, 1945, 1946,\n",
       "       1947, 1948, 1949, 1950, 1951, 1952, 1953, 1954, 1955, 1956, 1957,\n",
       "       1958, 1959, 1960, 1961, 1962, 1963, 1964, 1965, 1966, 1967, 1968,\n",
       "       1969, 1970, 1971, 1972, 1973, 1974, 1975, 1976, 1977, 1978, 1979,\n",
       "       1980, 1981, 1982, 1983, 1984, 1985, 1986, 1987, 1988, 1989, 1990,\n",
       "       1991, 1992, 1993, 1994, 1995, 1996, 1997, 1998, 1999, 2000, 2001,\n",
       "       2002, 2003, 2004, 2005, 2006, 2007, 2008, 2009, 2010, 2012, 2022])"
      ]
     },
     "execution_count": 106,
     "metadata": {},
     "output_type": "execute_result"
    }
   ],
   "source": [
    "# Filter for females named 'Richard'\n",
    "female_Richard_df = df[(df['Name'] == 'Richard') & (df['Sex'] == 'F')]\n",
    "\n",
    "# Get the years when females named 'Richard' were born\n",
    "female_Richard_df['Year'].unique()"
   ]
  },
  {
   "cell_type": "code",
   "execution_count": 107,
   "id": "ece80cfc-58ff-4b4b-8004-5530c5d71c1d",
   "metadata": {},
   "outputs": [
    {
     "data": {
      "text/html": [
       "\n",
       "<style>\n",
       "  #altair-viz-84c65a2be4c04eb9950f95cb5177989e.vega-embed {\n",
       "    width: 100%;\n",
       "    display: flex;\n",
       "  }\n",
       "\n",
       "  #altair-viz-84c65a2be4c04eb9950f95cb5177989e.vega-embed details,\n",
       "  #altair-viz-84c65a2be4c04eb9950f95cb5177989e.vega-embed details summary {\n",
       "    position: relative;\n",
       "  }\n",
       "</style>\n",
       "<div id=\"altair-viz-84c65a2be4c04eb9950f95cb5177989e\"></div>\n",
       "<script type=\"text/javascript\">\n",
       "  var VEGA_DEBUG = (typeof VEGA_DEBUG == \"undefined\") ? {} : VEGA_DEBUG;\n",
       "  (function(spec, embedOpt){\n",
       "    let outputDiv = document.currentScript.previousElementSibling;\n",
       "    if (outputDiv.id !== \"altair-viz-84c65a2be4c04eb9950f95cb5177989e\") {\n",
       "      outputDiv = document.getElementById(\"altair-viz-84c65a2be4c04eb9950f95cb5177989e\");\n",
       "    }\n",
       "    const paths = {\n",
       "      \"vega\": \"https://cdn.jsdelivr.net/npm/vega@5?noext\",\n",
       "      \"vega-lib\": \"https://cdn.jsdelivr.net/npm/vega-lib?noext\",\n",
       "      \"vega-lite\": \"https://cdn.jsdelivr.net/npm/vega-lite@5.17.0?noext\",\n",
       "      \"vega-embed\": \"https://cdn.jsdelivr.net/npm/vega-embed@6?noext\",\n",
       "    };\n",
       "\n",
       "    function maybeLoadScript(lib, version) {\n",
       "      var key = `${lib.replace(\"-\", \"\")}_version`;\n",
       "      return (VEGA_DEBUG[key] == version) ?\n",
       "        Promise.resolve(paths[lib]) :\n",
       "        new Promise(function(resolve, reject) {\n",
       "          var s = document.createElement('script');\n",
       "          document.getElementsByTagName(\"head\")[0].appendChild(s);\n",
       "          s.async = true;\n",
       "          s.onload = () => {\n",
       "            VEGA_DEBUG[key] = version;\n",
       "            return resolve(paths[lib]);\n",
       "          };\n",
       "          s.onerror = () => reject(`Error loading script: ${paths[lib]}`);\n",
       "          s.src = paths[lib];\n",
       "        });\n",
       "    }\n",
       "\n",
       "    function showError(err) {\n",
       "      outputDiv.innerHTML = `<div class=\"error\" style=\"color:red;\">${err}</div>`;\n",
       "      throw err;\n",
       "    }\n",
       "\n",
       "    function displayChart(vegaEmbed) {\n",
       "      vegaEmbed(outputDiv, spec, embedOpt)\n",
       "        .catch(err => showError(`Javascript Error: ${err.message}<br>This usually means there's a typo in your chart specification. See the javascript console for the full traceback.`));\n",
       "    }\n",
       "\n",
       "    if(typeof define === \"function\" && define.amd) {\n",
       "      requirejs.config({paths});\n",
       "      require([\"vega-embed\"], displayChart, err => showError(`Error loading script: ${err.message}`));\n",
       "    } else {\n",
       "      maybeLoadScript(\"vega\", \"5\")\n",
       "        .then(() => maybeLoadScript(\"vega-lite\", \"5.17.0\"))\n",
       "        .then(() => maybeLoadScript(\"vega-embed\", \"6\"))\n",
       "        .catch(showError)\n",
       "        .then(() => displayChart(vegaEmbed));\n",
       "    }\n",
       "  })({\"config\": {\"view\": {\"continuousWidth\": 300, \"continuousHeight\": 300}}, \"data\": {\"name\": \"data-f6ed9546b651764da1ffbf5cb777bb68\"}, \"mark\": {\"type\": \"line\"}, \"encoding\": {\"tooltip\": [{\"field\": \"Year\", \"type\": \"quantitative\"}, {\"field\": \"Count\", \"type\": \"quantitative\"}], \"x\": {\"field\": \"Year\", \"type\": \"quantitative\"}, \"y\": {\"field\": \"Count\", \"type\": \"quantitative\"}}, \"title\": \"Count of the Name \\\"Richard\\\" Over Time\", \"$schema\": \"https://vega.github.io/schema/vega-lite/v5.17.0.json\", \"datasets\": {\"data-f6ed9546b651764da1ffbf5cb777bb68\": [{\"Year\": 1886, \"Name\": \"Richard\", \"Sex\": \"F\", \"Count\": 8}, {\"Year\": 1887, \"Name\": \"Richard\", \"Sex\": \"F\", \"Count\": 7}, {\"Year\": 1888, \"Name\": \"Richard\", \"Sex\": \"F\", \"Count\": 8}, {\"Year\": 1889, \"Name\": \"Richard\", \"Sex\": \"F\", \"Count\": 5}, {\"Year\": 1892, \"Name\": \"Richard\", \"Sex\": \"F\", \"Count\": 7}, {\"Year\": 1895, \"Name\": \"Richard\", \"Sex\": \"F\", \"Count\": 7}, {\"Year\": 1896, \"Name\": \"Richard\", \"Sex\": \"F\", \"Count\": 5}, {\"Year\": 1897, \"Name\": \"Richard\", \"Sex\": \"F\", \"Count\": 7}, {\"Year\": 1898, \"Name\": \"Richard\", \"Sex\": \"F\", \"Count\": 13}, {\"Year\": 1899, \"Name\": \"Richard\", \"Sex\": \"F\", \"Count\": 5}, {\"Year\": 1901, \"Name\": \"Richard\", \"Sex\": \"F\", \"Count\": 8}, {\"Year\": 1902, \"Name\": \"Richard\", \"Sex\": \"F\", \"Count\": 6}, {\"Year\": 1903, \"Name\": \"Richard\", \"Sex\": \"F\", \"Count\": 6}, {\"Year\": 1904, \"Name\": \"Richard\", \"Sex\": \"F\", \"Count\": 8}, {\"Year\": 1906, \"Name\": \"Richard\", \"Sex\": \"F\", \"Count\": 8}, {\"Year\": 1907, \"Name\": \"Richard\", \"Sex\": \"F\", \"Count\": 10}, {\"Year\": 1908, \"Name\": \"Richard\", \"Sex\": \"F\", \"Count\": 6}, {\"Year\": 1909, \"Name\": \"Richard\", \"Sex\": \"F\", \"Count\": 7}, {\"Year\": 1910, \"Name\": \"Richard\", \"Sex\": \"F\", \"Count\": 9}, {\"Year\": 1911, \"Name\": \"Richard\", \"Sex\": \"F\", \"Count\": 11}, {\"Year\": 1912, \"Name\": \"Richard\", \"Sex\": \"F\", \"Count\": 23}, {\"Year\": 1913, \"Name\": \"Richard\", \"Sex\": \"F\", \"Count\": 22}, {\"Year\": 1914, \"Name\": \"Richard\", \"Sex\": \"F\", \"Count\": 30}, {\"Year\": 1915, \"Name\": \"Richard\", \"Sex\": \"F\", \"Count\": 39}, {\"Year\": 1916, \"Name\": \"Richard\", \"Sex\": \"F\", \"Count\": 43}, {\"Year\": 1917, \"Name\": \"Richard\", \"Sex\": \"F\", \"Count\": 47}, {\"Year\": 1918, \"Name\": \"Richard\", \"Sex\": \"F\", \"Count\": 51}, {\"Year\": 1919, \"Name\": \"Richard\", \"Sex\": \"F\", \"Count\": 74}, {\"Year\": 1920, \"Name\": \"Richard\", \"Sex\": \"F\", \"Count\": 54}, {\"Year\": 1921, \"Name\": \"Richard\", \"Sex\": \"F\", \"Count\": 71}, {\"Year\": 1922, \"Name\": \"Richard\", \"Sex\": \"F\", \"Count\": 75}, {\"Year\": 1923, \"Name\": \"Richard\", \"Sex\": \"F\", \"Count\": 78}, {\"Year\": 1924, \"Name\": \"Richard\", \"Sex\": \"F\", \"Count\": 94}, {\"Year\": 1925, \"Name\": \"Richard\", \"Sex\": \"F\", \"Count\": 107}, {\"Year\": 1926, \"Name\": \"Richard\", \"Sex\": \"F\", \"Count\": 119}, {\"Year\": 1927, \"Name\": \"Richard\", \"Sex\": \"F\", \"Count\": 161}, {\"Year\": 1928, \"Name\": \"Richard\", \"Sex\": \"F\", \"Count\": 201}, {\"Year\": 1929, \"Name\": \"Richard\", \"Sex\": \"F\", \"Count\": 200}, {\"Year\": 1930, \"Name\": \"Richard\", \"Sex\": \"F\", \"Count\": 164}, {\"Year\": 1931, \"Name\": \"Richard\", \"Sex\": \"F\", \"Count\": 151}, {\"Year\": 1932, \"Name\": \"Richard\", \"Sex\": \"F\", \"Count\": 138}, {\"Year\": 1933, \"Name\": \"Richard\", \"Sex\": \"F\", \"Count\": 126}, {\"Year\": 1934, \"Name\": \"Richard\", \"Sex\": \"F\", \"Count\": 129}, {\"Year\": 1935, \"Name\": \"Richard\", \"Sex\": \"F\", \"Count\": 128}, {\"Year\": 1936, \"Name\": \"Richard\", \"Sex\": \"F\", \"Count\": 98}, {\"Year\": 1937, \"Name\": \"Richard\", \"Sex\": \"F\", \"Count\": 118}, {\"Year\": 1938, \"Name\": \"Richard\", \"Sex\": \"F\", \"Count\": 121}, {\"Year\": 1939, \"Name\": \"Richard\", \"Sex\": \"F\", \"Count\": 107}, {\"Year\": 1940, \"Name\": \"Richard\", \"Sex\": \"F\", \"Count\": 108}, {\"Year\": 1941, \"Name\": \"Richard\", \"Sex\": \"F\", \"Count\": 120}, {\"Year\": 1942, \"Name\": \"Richard\", \"Sex\": \"F\", \"Count\": 127}, {\"Year\": 1943, \"Name\": \"Richard\", \"Sex\": \"F\", \"Count\": 119}, {\"Year\": 1944, \"Name\": \"Richard\", \"Sex\": \"F\", \"Count\": 97}, {\"Year\": 1945, \"Name\": \"Richard\", \"Sex\": \"F\", \"Count\": 106}, {\"Year\": 1946, \"Name\": \"Richard\", \"Sex\": \"F\", \"Count\": 120}, {\"Year\": 1947, \"Name\": \"Richard\", \"Sex\": \"F\", \"Count\": 144}, {\"Year\": 1948, \"Name\": \"Richard\", \"Sex\": \"F\", \"Count\": 120}, {\"Year\": 1949, \"Name\": \"Richard\", \"Sex\": \"F\", \"Count\": 115}, {\"Year\": 1950, \"Name\": \"Richard\", \"Sex\": \"F\", \"Count\": 96}, {\"Year\": 1951, \"Name\": \"Richard\", \"Sex\": \"F\", \"Count\": 94}, {\"Year\": 1952, \"Name\": \"Richard\", \"Sex\": \"F\", \"Count\": 105}, {\"Year\": 1953, \"Name\": \"Richard\", \"Sex\": \"F\", \"Count\": 134}, {\"Year\": 1954, \"Name\": \"Richard\", \"Sex\": \"F\", \"Count\": 103}, {\"Year\": 1955, \"Name\": \"Richard\", \"Sex\": \"F\", \"Count\": 125}, {\"Year\": 1956, \"Name\": \"Richard\", \"Sex\": \"F\", \"Count\": 130}, {\"Year\": 1957, \"Name\": \"Richard\", \"Sex\": \"F\", \"Count\": 117}, {\"Year\": 1958, \"Name\": \"Richard\", \"Sex\": \"F\", \"Count\": 119}, {\"Year\": 1959, \"Name\": \"Richard\", \"Sex\": \"F\", \"Count\": 129}, {\"Year\": 1960, \"Name\": \"Richard\", \"Sex\": \"F\", \"Count\": 124}, {\"Year\": 1961, \"Name\": \"Richard\", \"Sex\": \"F\", \"Count\": 130}, {\"Year\": 1962, \"Name\": \"Richard\", \"Sex\": \"F\", \"Count\": 140}, {\"Year\": 1963, \"Name\": \"Richard\", \"Sex\": \"F\", \"Count\": 154}, {\"Year\": 1964, \"Name\": \"Richard\", \"Sex\": \"F\", \"Count\": 136}, {\"Year\": 1965, \"Name\": \"Richard\", \"Sex\": \"F\", \"Count\": 134}, {\"Year\": 1966, \"Name\": \"Richard\", \"Sex\": \"F\", \"Count\": 145}, {\"Year\": 1967, \"Name\": \"Richard\", \"Sex\": \"F\", \"Count\": 166}, {\"Year\": 1968, \"Name\": \"Richard\", \"Sex\": \"F\", \"Count\": 163}, {\"Year\": 1969, \"Name\": \"Richard\", \"Sex\": \"F\", \"Count\": 173}, {\"Year\": 1970, \"Name\": \"Richard\", \"Sex\": \"F\", \"Count\": 160}, {\"Year\": 1971, \"Name\": \"Richard\", \"Sex\": \"F\", \"Count\": 144}, {\"Year\": 1972, \"Name\": \"Richard\", \"Sex\": \"F\", \"Count\": 139}, {\"Year\": 1973, \"Name\": \"Richard\", \"Sex\": \"F\", \"Count\": 138}, {\"Year\": 1974, \"Name\": \"Richard\", \"Sex\": \"F\", \"Count\": 90}, {\"Year\": 1975, \"Name\": \"Richard\", \"Sex\": \"F\", \"Count\": 130}, {\"Year\": 1976, \"Name\": \"Richard\", \"Sex\": \"F\", \"Count\": 128}, {\"Year\": 1977, \"Name\": \"Richard\", \"Sex\": \"F\", \"Count\": 131}, {\"Year\": 1978, \"Name\": \"Richard\", \"Sex\": \"F\", \"Count\": 95}, {\"Year\": 1979, \"Name\": \"Richard\", \"Sex\": \"F\", \"Count\": 123}, {\"Year\": 1980, \"Name\": \"Richard\", \"Sex\": \"F\", \"Count\": 121}, {\"Year\": 1981, \"Name\": \"Richard\", \"Sex\": \"F\", \"Count\": 115}, {\"Year\": 1982, \"Name\": \"Richard\", \"Sex\": \"F\", \"Count\": 132}, {\"Year\": 1983, \"Name\": \"Richard\", \"Sex\": \"F\", \"Count\": 127}, {\"Year\": 1984, \"Name\": \"Richard\", \"Sex\": \"F\", \"Count\": 106}, {\"Year\": 1985, \"Name\": \"Richard\", \"Sex\": \"F\", \"Count\": 116}, {\"Year\": 1986, \"Name\": \"Richard\", \"Sex\": \"F\", \"Count\": 122}, {\"Year\": 1987, \"Name\": \"Richard\", \"Sex\": \"F\", \"Count\": 111}, {\"Year\": 1988, \"Name\": \"Richard\", \"Sex\": \"F\", \"Count\": 111}, {\"Year\": 1989, \"Name\": \"Richard\", \"Sex\": \"F\", \"Count\": 69}, {\"Year\": 1990, \"Name\": \"Richard\", \"Sex\": \"F\", \"Count\": 54}, {\"Year\": 1991, \"Name\": \"Richard\", \"Sex\": \"F\", \"Count\": 55}, {\"Year\": 1992, \"Name\": \"Richard\", \"Sex\": \"F\", \"Count\": 32}, {\"Year\": 1993, \"Name\": \"Richard\", \"Sex\": \"F\", \"Count\": 28}, {\"Year\": 1994, \"Name\": \"Richard\", \"Sex\": \"F\", \"Count\": 36}, {\"Year\": 1995, \"Name\": \"Richard\", \"Sex\": \"F\", \"Count\": 22}, {\"Year\": 1996, \"Name\": \"Richard\", \"Sex\": \"F\", \"Count\": 29}, {\"Year\": 1997, \"Name\": \"Richard\", \"Sex\": \"F\", \"Count\": 16}, {\"Year\": 1998, \"Name\": \"Richard\", \"Sex\": \"F\", \"Count\": 14}, {\"Year\": 1999, \"Name\": \"Richard\", \"Sex\": \"F\", \"Count\": 12}, {\"Year\": 2000, \"Name\": \"Richard\", \"Sex\": \"F\", \"Count\": 11}, {\"Year\": 2001, \"Name\": \"Richard\", \"Sex\": \"F\", \"Count\": 11}, {\"Year\": 2002, \"Name\": \"Richard\", \"Sex\": \"F\", \"Count\": 11}, {\"Year\": 2003, \"Name\": \"Richard\", \"Sex\": \"F\", \"Count\": 10}, {\"Year\": 2004, \"Name\": \"Richard\", \"Sex\": \"F\", \"Count\": 23}, {\"Year\": 2005, \"Name\": \"Richard\", \"Sex\": \"F\", \"Count\": 5}, {\"Year\": 2006, \"Name\": \"Richard\", \"Sex\": \"F\", \"Count\": 8}, {\"Year\": 2007, \"Name\": \"Richard\", \"Sex\": \"F\", \"Count\": 8}, {\"Year\": 2008, \"Name\": \"Richard\", \"Sex\": \"F\", \"Count\": 5}, {\"Year\": 2009, \"Name\": \"Richard\", \"Sex\": \"F\", \"Count\": 7}, {\"Year\": 2010, \"Name\": \"Richard\", \"Sex\": \"F\", \"Count\": 5}, {\"Year\": 2012, \"Name\": \"Richard\", \"Sex\": \"F\", \"Count\": 5}, {\"Year\": 2022, \"Name\": \"Richard\", \"Sex\": \"F\", \"Count\": 6}]}}, {\"mode\": \"vega-lite\"});\n",
       "</script>"
      ],
      "text/plain": [
       "alt.Chart(...)"
      ]
     },
     "metadata": {},
     "output_type": "display_data"
    }
   ],
   "source": [
    "chart = alt.Chart(female_Richard_df).mark_line().encode(\n",
    "    x='Year',\n",
    "    y='Count',\n",
    "    tooltip=['Year', 'Count']\n",
    ").properties(\n",
    "    title='Count of the Name \"Richard\" Over Time',\n",
    ")\n",
    "chart.show()"
   ]
  },
  {
   "cell_type": "code",
   "execution_count": 137,
   "id": "9752883f-95a8-4fcc-be87-1703585a38d7",
   "metadata": {},
   "outputs": [
    {
     "data": {
      "text/html": [
       "\n",
       "<style>\n",
       "  #altair-viz-ebb3e23328304239beae056905d76b3b.vega-embed {\n",
       "    width: 100%;\n",
       "    display: flex;\n",
       "  }\n",
       "\n",
       "  #altair-viz-ebb3e23328304239beae056905d76b3b.vega-embed details,\n",
       "  #altair-viz-ebb3e23328304239beae056905d76b3b.vega-embed details summary {\n",
       "    position: relative;\n",
       "  }\n",
       "</style>\n",
       "<div id=\"altair-viz-ebb3e23328304239beae056905d76b3b\"></div>\n",
       "<script type=\"text/javascript\">\n",
       "  var VEGA_DEBUG = (typeof VEGA_DEBUG == \"undefined\") ? {} : VEGA_DEBUG;\n",
       "  (function(spec, embedOpt){\n",
       "    let outputDiv = document.currentScript.previousElementSibling;\n",
       "    if (outputDiv.id !== \"altair-viz-ebb3e23328304239beae056905d76b3b\") {\n",
       "      outputDiv = document.getElementById(\"altair-viz-ebb3e23328304239beae056905d76b3b\");\n",
       "    }\n",
       "    const paths = {\n",
       "      \"vega\": \"https://cdn.jsdelivr.net/npm/vega@5?noext\",\n",
       "      \"vega-lib\": \"https://cdn.jsdelivr.net/npm/vega-lib?noext\",\n",
       "      \"vega-lite\": \"https://cdn.jsdelivr.net/npm/vega-lite@5.17.0?noext\",\n",
       "      \"vega-embed\": \"https://cdn.jsdelivr.net/npm/vega-embed@6?noext\",\n",
       "    };\n",
       "\n",
       "    function maybeLoadScript(lib, version) {\n",
       "      var key = `${lib.replace(\"-\", \"\")}_version`;\n",
       "      return (VEGA_DEBUG[key] == version) ?\n",
       "        Promise.resolve(paths[lib]) :\n",
       "        new Promise(function(resolve, reject) {\n",
       "          var s = document.createElement('script');\n",
       "          document.getElementsByTagName(\"head\")[0].appendChild(s);\n",
       "          s.async = true;\n",
       "          s.onload = () => {\n",
       "            VEGA_DEBUG[key] = version;\n",
       "            return resolve(paths[lib]);\n",
       "          };\n",
       "          s.onerror = () => reject(`Error loading script: ${paths[lib]}`);\n",
       "          s.src = paths[lib];\n",
       "        });\n",
       "    }\n",
       "\n",
       "    function showError(err) {\n",
       "      outputDiv.innerHTML = `<div class=\"error\" style=\"color:red;\">${err}</div>`;\n",
       "      throw err;\n",
       "    }\n",
       "\n",
       "    function displayChart(vegaEmbed) {\n",
       "      vegaEmbed(outputDiv, spec, embedOpt)\n",
       "        .catch(err => showError(`Javascript Error: ${err.message}<br>This usually means there's a typo in your chart specification. See the javascript console for the full traceback.`));\n",
       "    }\n",
       "\n",
       "    if(typeof define === \"function\" && define.amd) {\n",
       "      requirejs.config({paths});\n",
       "      require([\"vega-embed\"], displayChart, err => showError(`Error loading script: ${err.message}`));\n",
       "    } else {\n",
       "      maybeLoadScript(\"vega\", \"5\")\n",
       "        .then(() => maybeLoadScript(\"vega-lite\", \"5.17.0\"))\n",
       "        .then(() => maybeLoadScript(\"vega-embed\", \"6\"))\n",
       "        .catch(showError)\n",
       "        .then(() => displayChart(vegaEmbed));\n",
       "    }\n",
       "  })({\"config\": {\"view\": {\"continuousWidth\": 300, \"continuousHeight\": 300}}, \"layer\": [{\"data\": {\"name\": \"data-9c92c335fcc3b1b31175ad814aee38a7\"}, \"mark\": {\"type\": \"line\"}, \"encoding\": {\"tooltip\": [{\"field\": \"Year\", \"type\": \"quantitative\"}, {\"field\": \"Count\", \"type\": \"quantitative\"}], \"x\": {\"field\": \"Year\", \"type\": \"quantitative\"}, \"y\": {\"field\": \"Count\", \"type\": \"quantitative\"}}, \"title\": \"Popularity of the Name \\\"Richard\\\"\"}, {\"data\": {\"name\": \"data-af2c6959412ba78aa71e21201f5d14c6\"}, \"mark\": {\"type\": \"line\"}, \"encoding\": {\"tooltip\": [{\"field\": \"Year\", \"type\": \"quantitative\"}, {\"field\": \"Count\", \"type\": \"quantitative\"}], \"x\": {\"field\": \"Year\", \"type\": \"quantitative\"}, \"y\": {\"field\": \"Count\", \"type\": \"quantitative\"}}, \"title\": \"Popularity of the Name \\\"Dick\\\" Over Time\"}], \"encoding\": {\"color\": {\"field\": \"Name\", \"legend\": {\"title\": \"Name\"}, \"type\": \"nominal\"}}, \"title\": \"Richard remains far more popular than Dick\", \"width\": 600, \"$schema\": \"https://vega.github.io/schema/vega-lite/v5.17.0.json\", \"datasets\": {\"data-9c92c335fcc3b1b31175ad814aee38a7\": [{\"Year\": 1880, \"Name\": \"Richard\", \"Sex\": \"M\", \"Count\": 728}, {\"Year\": 1881, \"Name\": \"Richard\", \"Sex\": \"M\", \"Count\": 641}, {\"Year\": 1882, \"Name\": \"Richard\", \"Sex\": \"M\", \"Count\": 746}, {\"Year\": 1883, \"Name\": \"Richard\", \"Sex\": \"M\", \"Count\": 649}, {\"Year\": 1884, \"Name\": \"Richard\", \"Sex\": \"M\", \"Count\": 749}, {\"Year\": 1885, \"Name\": \"Richard\", \"Sex\": \"M\", \"Count\": 672}, {\"Year\": 1886, \"Name\": \"Richard\", \"Sex\": \"F\", \"Count\": 8}, {\"Year\": 1886, \"Name\": \"Richard\", \"Sex\": \"M\", \"Count\": 720}, {\"Year\": 1887, \"Name\": \"Richard\", \"Sex\": \"F\", \"Count\": 7}, {\"Year\": 1887, \"Name\": \"Richard\", \"Sex\": \"M\", \"Count\": 622}, {\"Year\": 1888, \"Name\": \"Richard\", \"Sex\": \"F\", \"Count\": 8}, {\"Year\": 1888, \"Name\": \"Richard\", \"Sex\": \"M\", \"Count\": 772}, {\"Year\": 1889, \"Name\": \"Richard\", \"Sex\": \"F\", \"Count\": 5}, {\"Year\": 1889, \"Name\": \"Richard\", \"Sex\": \"M\", \"Count\": 711}, {\"Year\": 1890, \"Name\": \"Richard\", \"Sex\": \"M\", \"Count\": 743}, {\"Year\": 1891, \"Name\": \"Richard\", \"Sex\": \"M\", \"Count\": 609}, {\"Year\": 1892, \"Name\": \"Richard\", \"Sex\": \"F\", \"Count\": 7}, {\"Year\": 1892, \"Name\": \"Richard\", \"Sex\": \"M\", \"Count\": 802}, {\"Year\": 1893, \"Name\": \"Richard\", \"Sex\": \"M\", \"Count\": 732}, {\"Year\": 1894, \"Name\": \"Richard\", \"Sex\": \"M\", \"Count\": 808}, {\"Year\": 1895, \"Name\": \"Richard\", \"Sex\": \"F\", \"Count\": 7}, {\"Year\": 1895, \"Name\": \"Richard\", \"Sex\": \"M\", \"Count\": 727}, {\"Year\": 1896, \"Name\": \"Richard\", \"Sex\": \"F\", \"Count\": 5}, {\"Year\": 1896, \"Name\": \"Richard\", \"Sex\": \"M\", \"Count\": 834}, {\"Year\": 1897, \"Name\": \"Richard\", \"Sex\": \"F\", \"Count\": 7}, {\"Year\": 1897, \"Name\": \"Richard\", \"Sex\": \"M\", \"Count\": 702}, {\"Year\": 1898, \"Name\": \"Richard\", \"Sex\": \"F\", \"Count\": 13}, {\"Year\": 1898, \"Name\": \"Richard\", \"Sex\": \"M\", \"Count\": 871}, {\"Year\": 1899, \"Name\": \"Richard\", \"Sex\": \"F\", \"Count\": 5}, {\"Year\": 1899, \"Name\": \"Richard\", \"Sex\": \"M\", \"Count\": 744}, {\"Year\": 1900, \"Name\": \"Richard\", \"Sex\": \"M\", \"Count\": 1141}, {\"Year\": 1901, \"Name\": \"Richard\", \"Sex\": \"F\", \"Count\": 8}, {\"Year\": 1901, \"Name\": \"Richard\", \"Sex\": \"M\", \"Count\": 784}, {\"Year\": 1902, \"Name\": \"Richard\", \"Sex\": \"F\", \"Count\": 6}, {\"Year\": 1902, \"Name\": \"Richard\", \"Sex\": \"M\", \"Count\": 908}, {\"Year\": 1903, \"Name\": \"Richard\", \"Sex\": \"F\", \"Count\": 6}, {\"Year\": 1903, \"Name\": \"Richard\", \"Sex\": \"M\", \"Count\": 863}, {\"Year\": 1904, \"Name\": \"Richard\", \"Sex\": \"F\", \"Count\": 8}, {\"Year\": 1904, \"Name\": \"Richard\", \"Sex\": \"M\", \"Count\": 957}, {\"Year\": 1905, \"Name\": \"Richard\", \"Sex\": \"M\", \"Count\": 1033}, {\"Year\": 1906, \"Name\": \"Richard\", \"Sex\": \"F\", \"Count\": 8}, {\"Year\": 1906, \"Name\": \"Richard\", \"Sex\": \"M\", \"Count\": 1084}, {\"Year\": 1907, \"Name\": \"Richard\", \"Sex\": \"F\", \"Count\": 10}, {\"Year\": 1907, \"Name\": \"Richard\", \"Sex\": \"M\", \"Count\": 1235}, {\"Year\": 1908, \"Name\": \"Richard\", \"Sex\": \"F\", \"Count\": 6}, {\"Year\": 1908, \"Name\": \"Richard\", \"Sex\": \"M\", \"Count\": 1244}, {\"Year\": 1909, \"Name\": \"Richard\", \"Sex\": \"F\", \"Count\": 7}, {\"Year\": 1909, \"Name\": \"Richard\", \"Sex\": \"M\", \"Count\": 1427}, {\"Year\": 1910, \"Name\": \"Richard\", \"Sex\": \"F\", \"Count\": 9}, {\"Year\": 1910, \"Name\": \"Richard\", \"Sex\": \"M\", \"Count\": 1654}, {\"Year\": 1911, \"Name\": \"Richard\", \"Sex\": \"F\", \"Count\": 11}, {\"Year\": 1911, \"Name\": \"Richard\", \"Sex\": \"M\", \"Count\": 2030}, {\"Year\": 1912, \"Name\": \"Richard\", \"Sex\": \"F\", \"Count\": 23}, {\"Year\": 1912, \"Name\": \"Richard\", \"Sex\": \"M\", \"Count\": 4188}, {\"Year\": 1913, \"Name\": \"Richard\", \"Sex\": \"F\", \"Count\": 22}, {\"Year\": 1913, \"Name\": \"Richard\", \"Sex\": \"M\", \"Count\": 5107}, {\"Year\": 1914, \"Name\": \"Richard\", \"Sex\": \"F\", \"Count\": 30}, {\"Year\": 1914, \"Name\": \"Richard\", \"Sex\": \"M\", \"Count\": 6669}, {\"Year\": 1915, \"Name\": \"Richard\", \"Sex\": \"F\", \"Count\": 39}, {\"Year\": 1915, \"Name\": \"Richard\", \"Sex\": \"M\", \"Count\": 9143}, {\"Year\": 1916, \"Name\": \"Richard\", \"Sex\": \"F\", \"Count\": 43}, {\"Year\": 1916, \"Name\": \"Richard\", \"Sex\": \"M\", \"Count\": 10134}, {\"Year\": 1917, \"Name\": \"Richard\", \"Sex\": \"F\", \"Count\": 47}, {\"Year\": 1917, \"Name\": \"Richard\", \"Sex\": \"M\", \"Count\": 10914}, {\"Year\": 1918, \"Name\": \"Richard\", \"Sex\": \"F\", \"Count\": 51}, {\"Year\": 1918, \"Name\": \"Richard\", \"Sex\": \"M\", \"Count\": 12323}, {\"Year\": 1919, \"Name\": \"Richard\", \"Sex\": \"F\", \"Count\": 74}, {\"Year\": 1919, \"Name\": \"Richard\", \"Sex\": \"M\", \"Count\": 12441}, {\"Year\": 1920, \"Name\": \"Richard\", \"Sex\": \"F\", \"Count\": 54}, {\"Year\": 1920, \"Name\": \"Richard\", \"Sex\": \"M\", \"Count\": 15010}, {\"Year\": 1921, \"Name\": \"Richard\", \"Sex\": \"F\", \"Count\": 71}, {\"Year\": 1921, \"Name\": \"Richard\", \"Sex\": \"M\", \"Count\": 16376}, {\"Year\": 1922, \"Name\": \"Richard\", \"Sex\": \"F\", \"Count\": 75}, {\"Year\": 1922, \"Name\": \"Richard\", \"Sex\": \"M\", \"Count\": 17537}, {\"Year\": 1923, \"Name\": \"Richard\", \"Sex\": \"F\", \"Count\": 78}, {\"Year\": 1923, \"Name\": \"Richard\", \"Sex\": \"M\", \"Count\": 18887}, {\"Year\": 1924, \"Name\": \"Richard\", \"Sex\": \"F\", \"Count\": 94}, {\"Year\": 1924, \"Name\": \"Richard\", \"Sex\": \"M\", \"Count\": 21244}, {\"Year\": 1925, \"Name\": \"Richard\", \"Sex\": \"F\", \"Count\": 107}, {\"Year\": 1925, \"Name\": \"Richard\", \"Sex\": \"M\", \"Count\": 23270}, {\"Year\": 1926, \"Name\": \"Richard\", \"Sex\": \"F\", \"Count\": 119}, {\"Year\": 1926, \"Name\": \"Richard\", \"Sex\": \"M\", \"Count\": 25142}, {\"Year\": 1927, \"Name\": \"Richard\", \"Sex\": \"F\", \"Count\": 161}, {\"Year\": 1927, \"Name\": \"Richard\", \"Sex\": \"M\", \"Count\": 26767}, {\"Year\": 1928, \"Name\": \"Richard\", \"Sex\": \"F\", \"Count\": 201}, {\"Year\": 1928, \"Name\": \"Richard\", \"Sex\": \"M\", \"Count\": 28793}, {\"Year\": 1929, \"Name\": \"Richard\", \"Sex\": \"F\", \"Count\": 200}, {\"Year\": 1929, \"Name\": \"Richard\", \"Sex\": \"M\", \"Count\": 29576}, {\"Year\": 1930, \"Name\": \"Richard\", \"Sex\": \"F\", \"Count\": 164}, {\"Year\": 1930, \"Name\": \"Richard\", \"Sex\": \"M\", \"Count\": 32180}, {\"Year\": 1931, \"Name\": \"Richard\", \"Sex\": \"F\", \"Count\": 151}, {\"Year\": 1931, \"Name\": \"Richard\", \"Sex\": \"M\", \"Count\": 31822}, {\"Year\": 1932, \"Name\": \"Richard\", \"Sex\": \"F\", \"Count\": 138}, {\"Year\": 1932, \"Name\": \"Richard\", \"Sex\": \"M\", \"Count\": 31806}, {\"Year\": 1933, \"Name\": \"Richard\", \"Sex\": \"F\", \"Count\": 126}, {\"Year\": 1933, \"Name\": \"Richard\", \"Sex\": \"M\", \"Count\": 31333}, {\"Year\": 1934, \"Name\": \"Richard\", \"Sex\": \"F\", \"Count\": 129}, {\"Year\": 1934, \"Name\": \"Richard\", \"Sex\": \"M\", \"Count\": 33165}, {\"Year\": 1935, \"Name\": \"Richard\", \"Sex\": \"F\", \"Count\": 128}, {\"Year\": 1935, \"Name\": \"Richard\", \"Sex\": \"M\", \"Count\": 33947}, {\"Year\": 1936, \"Name\": \"Richard\", \"Sex\": \"F\", \"Count\": 98}, {\"Year\": 1936, \"Name\": \"Richard\", \"Sex\": \"M\", \"Count\": 33490}, {\"Year\": 1937, \"Name\": \"Richard\", \"Sex\": \"F\", \"Count\": 118}, {\"Year\": 1937, \"Name\": \"Richard\", \"Sex\": \"M\", \"Count\": 32974}, {\"Year\": 1938, \"Name\": \"Richard\", \"Sex\": \"F\", \"Count\": 121}, {\"Year\": 1938, \"Name\": \"Richard\", \"Sex\": \"M\", \"Count\": 34385}, {\"Year\": 1939, \"Name\": \"Richard\", \"Sex\": \"F\", \"Count\": 107}, {\"Year\": 1939, \"Name\": \"Richard\", \"Sex\": \"M\", \"Count\": 35379}, {\"Year\": 1940, \"Name\": \"Richard\", \"Sex\": \"F\", \"Count\": 108}, {\"Year\": 1940, \"Name\": \"Richard\", \"Sex\": \"M\", \"Count\": 37427}, {\"Year\": 1941, \"Name\": \"Richard\", \"Sex\": \"F\", \"Count\": 120}, {\"Year\": 1941, \"Name\": \"Richard\", \"Sex\": \"M\", \"Count\": 39109}, {\"Year\": 1942, \"Name\": \"Richard\", \"Sex\": \"F\", \"Count\": 127}, {\"Year\": 1942, \"Name\": \"Richard\", \"Sex\": \"M\", \"Count\": 43588}, {\"Year\": 1943, \"Name\": \"Richard\", \"Sex\": \"F\", \"Count\": 119}, {\"Year\": 1943, \"Name\": \"Richard\", \"Sex\": \"M\", \"Count\": 46335}, {\"Year\": 1944, \"Name\": \"Richard\", \"Sex\": \"F\", \"Count\": 97}, {\"Year\": 1944, \"Name\": \"Richard\", \"Sex\": \"M\", \"Count\": 45641}, {\"Year\": 1945, \"Name\": \"Richard\", \"Sex\": \"F\", \"Count\": 106}, {\"Year\": 1945, \"Name\": \"Richard\", \"Sex\": \"M\", \"Count\": 46046}, {\"Year\": 1946, \"Name\": \"Richard\", \"Sex\": \"F\", \"Count\": 120}, {\"Year\": 1946, \"Name\": \"Richard\", \"Sex\": \"M\", \"Count\": 58868}, {\"Year\": 1947, \"Name\": \"Richard\", \"Sex\": \"F\", \"Count\": 144}, {\"Year\": 1947, \"Name\": \"Richard\", \"Sex\": \"M\", \"Count\": 58529}, {\"Year\": 1948, \"Name\": \"Richard\", \"Sex\": \"F\", \"Count\": 120}, {\"Year\": 1948, \"Name\": \"Richard\", \"Sex\": \"M\", \"Count\": 50971}, {\"Year\": 1949, \"Name\": \"Richard\", \"Sex\": \"F\", \"Count\": 115}, {\"Year\": 1949, \"Name\": \"Richard\", \"Sex\": \"M\", \"Count\": 50944}, {\"Year\": 1950, \"Name\": \"Richard\", \"Sex\": \"F\", \"Count\": 96}, {\"Year\": 1950, \"Name\": \"Richard\", \"Sex\": \"M\", \"Count\": 51002}, {\"Year\": 1951, \"Name\": \"Richard\", \"Sex\": \"F\", \"Count\": 94}, {\"Year\": 1951, \"Name\": \"Richard\", \"Sex\": \"M\", \"Count\": 54546}, {\"Year\": 1952, \"Name\": \"Richard\", \"Sex\": \"F\", \"Count\": 105}, {\"Year\": 1952, \"Name\": \"Richard\", \"Sex\": \"M\", \"Count\": 58348}, {\"Year\": 1953, \"Name\": \"Richard\", \"Sex\": \"F\", \"Count\": 134}, {\"Year\": 1953, \"Name\": \"Richard\", \"Sex\": \"M\", \"Count\": 58388}, {\"Year\": 1954, \"Name\": \"Richard\", \"Sex\": \"F\", \"Count\": 103}, {\"Year\": 1954, \"Name\": \"Richard\", \"Sex\": \"M\", \"Count\": 57050}, {\"Year\": 1955, \"Name\": \"Richard\", \"Sex\": \"F\", \"Count\": 125}, {\"Year\": 1955, \"Name\": \"Richard\", \"Sex\": \"M\", \"Count\": 53563}, {\"Year\": 1956, \"Name\": \"Richard\", \"Sex\": \"F\", \"Count\": 130}, {\"Year\": 1956, \"Name\": \"Richard\", \"Sex\": \"M\", \"Count\": 52907}, {\"Year\": 1957, \"Name\": \"Richard\", \"Sex\": \"F\", \"Count\": 117}, {\"Year\": 1957, \"Name\": \"Richard\", \"Sex\": \"M\", \"Count\": 52459}, {\"Year\": 1958, \"Name\": \"Richard\", \"Sex\": \"F\", \"Count\": 119}, {\"Year\": 1958, \"Name\": \"Richard\", \"Sex\": \"M\", \"Count\": 49960}, {\"Year\": 1959, \"Name\": \"Richard\", \"Sex\": \"F\", \"Count\": 129}, {\"Year\": 1959, \"Name\": \"Richard\", \"Sex\": \"M\", \"Count\": 47185}, {\"Year\": 1960, \"Name\": \"Richard\", \"Sex\": \"F\", \"Count\": 124}, {\"Year\": 1960, \"Name\": \"Richard\", \"Sex\": \"M\", \"Count\": 43547}, {\"Year\": 1961, \"Name\": \"Richard\", \"Sex\": \"F\", \"Count\": 130}, {\"Year\": 1961, \"Name\": \"Richard\", \"Sex\": \"M\", \"Count\": 41125}, {\"Year\": 1962, \"Name\": \"Richard\", \"Sex\": \"F\", \"Count\": 140}, {\"Year\": 1962, \"Name\": \"Richard\", \"Sex\": \"M\", \"Count\": 39410}, {\"Year\": 1963, \"Name\": \"Richard\", \"Sex\": \"F\", \"Count\": 154}, {\"Year\": 1963, \"Name\": \"Richard\", \"Sex\": \"M\", \"Count\": 40774}, {\"Year\": 1964, \"Name\": \"Richard\", \"Sex\": \"F\", \"Count\": 136}, {\"Year\": 1964, \"Name\": \"Richard\", \"Sex\": \"M\", \"Count\": 40101}, {\"Year\": 1965, \"Name\": \"Richard\", \"Sex\": \"F\", \"Count\": 134}, {\"Year\": 1965, \"Name\": \"Richard\", \"Sex\": \"M\", \"Count\": 36833}, {\"Year\": 1966, \"Name\": \"Richard\", \"Sex\": \"F\", \"Count\": 145}, {\"Year\": 1966, \"Name\": \"Richard\", \"Sex\": \"M\", \"Count\": 34460}, {\"Year\": 1967, \"Name\": \"Richard\", \"Sex\": \"F\", \"Count\": 166}, {\"Year\": 1967, \"Name\": \"Richard\", \"Sex\": \"M\", \"Count\": 33583}, {\"Year\": 1968, \"Name\": \"Richard\", \"Sex\": \"F\", \"Count\": 163}, {\"Year\": 1968, \"Name\": \"Richard\", \"Sex\": \"M\", \"Count\": 32976}, {\"Year\": 1969, \"Name\": \"Richard\", \"Sex\": \"F\", \"Count\": 173}, {\"Year\": 1969, \"Name\": \"Richard\", \"Sex\": \"M\", \"Count\": 31093}, {\"Year\": 1970, \"Name\": \"Richard\", \"Sex\": \"F\", \"Count\": 160}, {\"Year\": 1970, \"Name\": \"Richard\", \"Sex\": \"M\", \"Count\": 30443}, {\"Year\": 1971, \"Name\": \"Richard\", \"Sex\": \"F\", \"Count\": 144}, {\"Year\": 1971, \"Name\": \"Richard\", \"Sex\": \"M\", \"Count\": 26159}, {\"Year\": 1972, \"Name\": \"Richard\", \"Sex\": \"F\", \"Count\": 139}, {\"Year\": 1972, \"Name\": \"Richard\", \"Sex\": \"M\", \"Count\": 22307}, {\"Year\": 1973, \"Name\": \"Richard\", \"Sex\": \"F\", \"Count\": 138}, {\"Year\": 1973, \"Name\": \"Richard\", \"Sex\": \"M\", \"Count\": 19945}, {\"Year\": 1974, \"Name\": \"Richard\", \"Sex\": \"F\", \"Count\": 90}, {\"Year\": 1974, \"Name\": \"Richard\", \"Sex\": \"M\", \"Count\": 18639}, {\"Year\": 1975, \"Name\": \"Richard\", \"Sex\": \"F\", \"Count\": 130}, {\"Year\": 1975, \"Name\": \"Richard\", \"Sex\": \"M\", \"Count\": 17690}, {\"Year\": 1976, \"Name\": \"Richard\", \"Sex\": \"F\", \"Count\": 128}, {\"Year\": 1976, \"Name\": \"Richard\", \"Sex\": \"M\", \"Count\": 16757}, {\"Year\": 1977, \"Name\": \"Richard\", \"Sex\": \"F\", \"Count\": 131}, {\"Year\": 1977, \"Name\": \"Richard\", \"Sex\": \"M\", \"Count\": 17443}, {\"Year\": 1978, \"Name\": \"Richard\", \"Sex\": \"F\", \"Count\": 95}, {\"Year\": 1978, \"Name\": \"Richard\", \"Sex\": \"M\", \"Count\": 16732}, {\"Year\": 1979, \"Name\": \"Richard\", \"Sex\": \"F\", \"Count\": 123}, {\"Year\": 1979, \"Name\": \"Richard\", \"Sex\": \"M\", \"Count\": 16717}, {\"Year\": 1980, \"Name\": \"Richard\", \"Sex\": \"F\", \"Count\": 121}, {\"Year\": 1980, \"Name\": \"Richard\", \"Sex\": \"M\", \"Count\": 16659}, {\"Year\": 1981, \"Name\": \"Richard\", \"Sex\": \"F\", \"Count\": 115}, {\"Year\": 1981, \"Name\": \"Richard\", \"Sex\": \"M\", \"Count\": 16854}, {\"Year\": 1982, \"Name\": \"Richard\", \"Sex\": \"F\", \"Count\": 132}, {\"Year\": 1982, \"Name\": \"Richard\", \"Sex\": \"M\", \"Count\": 16721}, {\"Year\": 1983, \"Name\": \"Richard\", \"Sex\": \"F\", \"Count\": 127}, {\"Year\": 1983, \"Name\": \"Richard\", \"Sex\": \"M\", \"Count\": 15892}, {\"Year\": 1984, \"Name\": \"Richard\", \"Sex\": \"F\", \"Count\": 106}, {\"Year\": 1984, \"Name\": \"Richard\", \"Sex\": \"M\", \"Count\": 15606}, {\"Year\": 1985, \"Name\": \"Richard\", \"Sex\": \"F\", \"Count\": 116}, {\"Year\": 1985, \"Name\": \"Richard\", \"Sex\": \"M\", \"Count\": 15331}, {\"Year\": 1986, \"Name\": \"Richard\", \"Sex\": \"F\", \"Count\": 122}, {\"Year\": 1986, \"Name\": \"Richard\", \"Sex\": \"M\", \"Count\": 15010}, {\"Year\": 1987, \"Name\": \"Richard\", \"Sex\": \"F\", \"Count\": 111}, {\"Year\": 1987, \"Name\": \"Richard\", \"Sex\": \"M\", \"Count\": 14404}, {\"Year\": 1988, \"Name\": \"Richard\", \"Sex\": \"F\", \"Count\": 111}, {\"Year\": 1988, \"Name\": \"Richard\", \"Sex\": \"M\", \"Count\": 14145}, {\"Year\": 1989, \"Name\": \"Richard\", \"Sex\": \"F\", \"Count\": 69}, {\"Year\": 1989, \"Name\": \"Richard\", \"Sex\": \"M\", \"Count\": 14137}, {\"Year\": 1990, \"Name\": \"Richard\", \"Sex\": \"F\", \"Count\": 54}, {\"Year\": 1990, \"Name\": \"Richard\", \"Sex\": \"M\", \"Count\": 13577}, {\"Year\": 1991, \"Name\": \"Richard\", \"Sex\": \"F\", \"Count\": 55}, {\"Year\": 1991, \"Name\": \"Richard\", \"Sex\": \"M\", \"Count\": 12554}, {\"Year\": 1992, \"Name\": \"Richard\", \"Sex\": \"F\", \"Count\": 32}, {\"Year\": 1992, \"Name\": \"Richard\", \"Sex\": \"M\", \"Count\": 11329}, {\"Year\": 1993, \"Name\": \"Richard\", \"Sex\": \"F\", \"Count\": 28}, {\"Year\": 1993, \"Name\": \"Richard\", \"Sex\": \"M\", \"Count\": 10231}, {\"Year\": 1994, \"Name\": \"Richard\", \"Sex\": \"F\", \"Count\": 36}, {\"Year\": 1994, \"Name\": \"Richard\", \"Sex\": \"M\", \"Count\": 9514}, {\"Year\": 1995, \"Name\": \"Richard\", \"Sex\": \"F\", \"Count\": 22}, {\"Year\": 1995, \"Name\": \"Richard\", \"Sex\": \"M\", \"Count\": 8783}, {\"Year\": 1996, \"Name\": \"Richard\", \"Sex\": \"F\", \"Count\": 29}, {\"Year\": 1996, \"Name\": \"Richard\", \"Sex\": \"M\", \"Count\": 8180}, {\"Year\": 1997, \"Name\": \"Richard\", \"Sex\": \"F\", \"Count\": 16}, {\"Year\": 1997, \"Name\": \"Richard\", \"Sex\": \"M\", \"Count\": 7242}, {\"Year\": 1998, \"Name\": \"Richard\", \"Sex\": \"F\", \"Count\": 14}, {\"Year\": 1998, \"Name\": \"Richard\", \"Sex\": \"M\", \"Count\": 6954}, {\"Year\": 1999, \"Name\": \"Richard\", \"Sex\": \"F\", \"Count\": 12}, {\"Year\": 1999, \"Name\": \"Richard\", \"Sex\": \"M\", \"Count\": 6501}, {\"Year\": 2000, \"Name\": \"Richard\", \"Sex\": \"F\", \"Count\": 11}, {\"Year\": 2000, \"Name\": \"Richard\", \"Sex\": \"M\", \"Count\": 6354}, {\"Year\": 2001, \"Name\": \"Richard\", \"Sex\": \"F\", \"Count\": 11}, {\"Year\": 2001, \"Name\": \"Richard\", \"Sex\": \"M\", \"Count\": 5771}, {\"Year\": 2002, \"Name\": \"Richard\", \"Sex\": \"F\", \"Count\": 11}, {\"Year\": 2002, \"Name\": \"Richard\", \"Sex\": \"M\", \"Count\": 5321}, {\"Year\": 2003, \"Name\": \"Richard\", \"Sex\": \"F\", \"Count\": 10}, {\"Year\": 2003, \"Name\": \"Richard\", \"Sex\": \"M\", \"Count\": 5054}, {\"Year\": 2004, \"Name\": \"Richard\", \"Sex\": \"F\", \"Count\": 23}, {\"Year\": 2004, \"Name\": \"Richard\", \"Sex\": \"M\", \"Count\": 4848}, {\"Year\": 2005, \"Name\": \"Richard\", \"Sex\": \"F\", \"Count\": 5}, {\"Year\": 2005, \"Name\": \"Richard\", \"Sex\": \"M\", \"Count\": 4667}, {\"Year\": 2006, \"Name\": \"Richard\", \"Sex\": \"F\", \"Count\": 8}, {\"Year\": 2006, \"Name\": \"Richard\", \"Sex\": \"M\", \"Count\": 4467}, {\"Year\": 2007, \"Name\": \"Richard\", \"Sex\": \"F\", \"Count\": 8}, {\"Year\": 2007, \"Name\": \"Richard\", \"Sex\": \"M\", \"Count\": 4424}, {\"Year\": 2008, \"Name\": \"Richard\", \"Sex\": \"F\", \"Count\": 5}, {\"Year\": 2008, \"Name\": \"Richard\", \"Sex\": \"M\", \"Count\": 4058}, {\"Year\": 2009, \"Name\": \"Richard\", \"Sex\": \"F\", \"Count\": 7}, {\"Year\": 2009, \"Name\": \"Richard\", \"Sex\": \"M\", \"Count\": 3611}, {\"Year\": 2010, \"Name\": \"Richard\", \"Sex\": \"F\", \"Count\": 5}, {\"Year\": 2010, \"Name\": \"Richard\", \"Sex\": \"M\", \"Count\": 3238}, {\"Year\": 2011, \"Name\": \"Richard\", \"Sex\": \"M\", \"Count\": 3165}, {\"Year\": 2012, \"Name\": \"Richard\", \"Sex\": \"F\", \"Count\": 5}, {\"Year\": 2012, \"Name\": \"Richard\", \"Sex\": \"M\", \"Count\": 3026}, {\"Year\": 2013, \"Name\": \"Richard\", \"Sex\": \"M\", \"Count\": 2798}, {\"Year\": 2014, \"Name\": \"Richard\", \"Sex\": \"M\", \"Count\": 2885}, {\"Year\": 2015, \"Name\": \"Richard\", \"Sex\": \"M\", \"Count\": 2684}, {\"Year\": 2016, \"Name\": \"Richard\", \"Sex\": \"M\", \"Count\": 2520}, {\"Year\": 2017, \"Name\": \"Richard\", \"Sex\": \"M\", \"Count\": 2283}, {\"Year\": 2018, \"Name\": \"Richard\", \"Sex\": \"M\", \"Count\": 2137}, {\"Year\": 2019, \"Name\": \"Richard\", \"Sex\": \"M\", \"Count\": 1986}, {\"Year\": 2020, \"Name\": \"Richard\", \"Sex\": \"M\", \"Count\": 1824}, {\"Year\": 2021, \"Name\": \"Richard\", \"Sex\": \"M\", \"Count\": 1778}, {\"Year\": 2022, \"Name\": \"Richard\", \"Sex\": \"F\", \"Count\": 6}, {\"Year\": 2022, \"Name\": \"Richard\", \"Sex\": \"M\", \"Count\": 1673}, {\"Year\": 2023, \"Name\": \"Richard\", \"Sex\": \"M\", \"Count\": 1638}], \"data-af2c6959412ba78aa71e21201f5d14c6\": [{\"Year\": 1880, \"Name\": \"Dick\", \"Sex\": \"M\", \"Count\": 25}, {\"Year\": 1881, \"Name\": \"Dick\", \"Sex\": \"M\", \"Count\": 20}, {\"Year\": 1882, \"Name\": \"Dick\", \"Sex\": \"M\", \"Count\": 14}, {\"Year\": 1883, \"Name\": \"Dick\", \"Sex\": \"M\", \"Count\": 24}, {\"Year\": 1884, \"Name\": \"Dick\", \"Sex\": \"M\", \"Count\": 37}, {\"Year\": 1885, \"Name\": \"Dick\", \"Sex\": \"M\", \"Count\": 27}, {\"Year\": 1886, \"Name\": \"Dick\", \"Sex\": \"M\", \"Count\": 23}, {\"Year\": 1887, \"Name\": \"Dick\", \"Sex\": \"M\", \"Count\": 27}, {\"Year\": 1888, \"Name\": \"Dick\", \"Sex\": \"M\", \"Count\": 27}, {\"Year\": 1889, \"Name\": \"Dick\", \"Sex\": \"M\", \"Count\": 22}, {\"Year\": 1890, \"Name\": \"Dick\", \"Sex\": \"M\", \"Count\": 31}, {\"Year\": 1891, \"Name\": \"Dick\", \"Sex\": \"M\", \"Count\": 18}, {\"Year\": 1892, \"Name\": \"Dick\", \"Sex\": \"M\", \"Count\": 24}, {\"Year\": 1893, \"Name\": \"Dick\", \"Sex\": \"M\", \"Count\": 20}, {\"Year\": 1894, \"Name\": \"Dick\", \"Sex\": \"M\", \"Count\": 25}, {\"Year\": 1895, \"Name\": \"Dick\", \"Sex\": \"M\", \"Count\": 22}, {\"Year\": 1896, \"Name\": \"Dick\", \"Sex\": \"M\", \"Count\": 27}, {\"Year\": 1897, \"Name\": \"Dick\", \"Sex\": \"M\", \"Count\": 23}, {\"Year\": 1898, \"Name\": \"Dick\", \"Sex\": \"M\", \"Count\": 29}, {\"Year\": 1899, \"Name\": \"Dick\", \"Sex\": \"M\", \"Count\": 30}, {\"Year\": 1900, \"Name\": \"Dick\", \"Sex\": \"M\", \"Count\": 45}, {\"Year\": 1901, \"Name\": \"Dick\", \"Sex\": \"M\", \"Count\": 21}, {\"Year\": 1902, \"Name\": \"Dick\", \"Sex\": \"M\", \"Count\": 35}, {\"Year\": 1903, \"Name\": \"Dick\", \"Sex\": \"M\", \"Count\": 18}, {\"Year\": 1904, \"Name\": \"Dick\", \"Sex\": \"M\", \"Count\": 24}, {\"Year\": 1905, \"Name\": \"Dick\", \"Sex\": \"M\", \"Count\": 36}, {\"Year\": 1906, \"Name\": \"Dick\", \"Sex\": \"M\", \"Count\": 32}, {\"Year\": 1907, \"Name\": \"Dick\", \"Sex\": \"M\", \"Count\": 38}, {\"Year\": 1908, \"Name\": \"Dick\", \"Sex\": \"M\", \"Count\": 34}, {\"Year\": 1909, \"Name\": \"Dick\", \"Sex\": \"M\", \"Count\": 46}, {\"Year\": 1910, \"Name\": \"Dick\", \"Sex\": \"M\", \"Count\": 52}, {\"Year\": 1911, \"Name\": \"Dick\", \"Sex\": \"M\", \"Count\": 37}, {\"Year\": 1912, \"Name\": \"Dick\", \"Sex\": \"F\", \"Count\": 5}, {\"Year\": 1912, \"Name\": \"Dick\", \"Sex\": \"M\", \"Count\": 77}, {\"Year\": 1913, \"Name\": \"Dick\", \"Sex\": \"M\", \"Count\": 94}, {\"Year\": 1914, \"Name\": \"Dick\", \"Sex\": \"M\", \"Count\": 129}, {\"Year\": 1915, \"Name\": \"Dick\", \"Sex\": \"M\", \"Count\": 167}, {\"Year\": 1916, \"Name\": \"Dick\", \"Sex\": \"M\", \"Count\": 221}, {\"Year\": 1917, \"Name\": \"Dick\", \"Sex\": \"M\", \"Count\": 220}, {\"Year\": 1918, \"Name\": \"Dick\", \"Sex\": \"F\", \"Count\": 6}, {\"Year\": 1918, \"Name\": \"Dick\", \"Sex\": \"M\", \"Count\": 251}, {\"Year\": 1919, \"Name\": \"Dick\", \"Sex\": \"M\", \"Count\": 269}, {\"Year\": 1920, \"Name\": \"Dick\", \"Sex\": \"F\", \"Count\": 7}, {\"Year\": 1920, \"Name\": \"Dick\", \"Sex\": \"M\", \"Count\": 329}, {\"Year\": 1921, \"Name\": \"Dick\", \"Sex\": \"M\", \"Count\": 349}, {\"Year\": 1922, \"Name\": \"Dick\", \"Sex\": \"M\", \"Count\": 363}, {\"Year\": 1923, \"Name\": \"Dick\", \"Sex\": \"M\", \"Count\": 350}, {\"Year\": 1924, \"Name\": \"Dick\", \"Sex\": \"M\", \"Count\": 442}, {\"Year\": 1925, \"Name\": \"Dick\", \"Sex\": \"F\", \"Count\": 8}, {\"Year\": 1925, \"Name\": \"Dick\", \"Sex\": \"M\", \"Count\": 564}, {\"Year\": 1926, \"Name\": \"Dick\", \"Sex\": \"M\", \"Count\": 650}, {\"Year\": 1927, \"Name\": \"Dick\", \"Sex\": \"M\", \"Count\": 775}, {\"Year\": 1928, \"Name\": \"Dick\", \"Sex\": \"M\", \"Count\": 834}, {\"Year\": 1929, \"Name\": \"Dick\", \"Sex\": \"F\", \"Count\": 5}, {\"Year\": 1929, \"Name\": \"Dick\", \"Sex\": \"M\", \"Count\": 842}, {\"Year\": 1930, \"Name\": \"Dick\", \"Sex\": \"F\", \"Count\": 6}, {\"Year\": 1930, \"Name\": \"Dick\", \"Sex\": \"M\", \"Count\": 940}, {\"Year\": 1931, \"Name\": \"Dick\", \"Sex\": \"F\", \"Count\": 6}, {\"Year\": 1931, \"Name\": \"Dick\", \"Sex\": \"M\", \"Count\": 992}, {\"Year\": 1932, \"Name\": \"Dick\", \"Sex\": \"M\", \"Count\": 1053}, {\"Year\": 1933, \"Name\": \"Dick\", \"Sex\": \"F\", \"Count\": 5}, {\"Year\": 1933, \"Name\": \"Dick\", \"Sex\": \"M\", \"Count\": 1045}, {\"Year\": 1934, \"Name\": \"Dick\", \"Sex\": \"M\", \"Count\": 1131}, {\"Year\": 1935, \"Name\": \"Dick\", \"Sex\": \"M\", \"Count\": 1093}, {\"Year\": 1936, \"Name\": \"Dick\", \"Sex\": \"M\", \"Count\": 1088}, {\"Year\": 1937, \"Name\": \"Dick\", \"Sex\": \"M\", \"Count\": 1008}, {\"Year\": 1938, \"Name\": \"Dick\", \"Sex\": \"M\", \"Count\": 936}, {\"Year\": 1939, \"Name\": \"Dick\", \"Sex\": \"M\", \"Count\": 877}, {\"Year\": 1940, \"Name\": \"Dick\", \"Sex\": \"M\", \"Count\": 911}, {\"Year\": 1941, \"Name\": \"Dick\", \"Sex\": \"M\", \"Count\": 893}, {\"Year\": 1942, \"Name\": \"Dick\", \"Sex\": \"M\", \"Count\": 862}, {\"Year\": 1943, \"Name\": \"Dick\", \"Sex\": \"M\", \"Count\": 855}, {\"Year\": 1944, \"Name\": \"Dick\", \"Sex\": \"M\", \"Count\": 808}, {\"Year\": 1945, \"Name\": \"Dick\", \"Sex\": \"M\", \"Count\": 758}, {\"Year\": 1946, \"Name\": \"Dick\", \"Sex\": \"M\", \"Count\": 828}, {\"Year\": 1947, \"Name\": \"Dick\", \"Sex\": \"M\", \"Count\": 755}, {\"Year\": 1948, \"Name\": \"Dick\", \"Sex\": \"M\", \"Count\": 552}, {\"Year\": 1949, \"Name\": \"Dick\", \"Sex\": \"M\", \"Count\": 340}, {\"Year\": 1950, \"Name\": \"Dick\", \"Sex\": \"M\", \"Count\": 269}, {\"Year\": 1951, \"Name\": \"Dick\", \"Sex\": \"M\", \"Count\": 246}, {\"Year\": 1952, \"Name\": \"Dick\", \"Sex\": \"M\", \"Count\": 215}, {\"Year\": 1953, \"Name\": \"Dick\", \"Sex\": \"M\", \"Count\": 215}, {\"Year\": 1954, \"Name\": \"Dick\", \"Sex\": \"M\", \"Count\": 167}, {\"Year\": 1955, \"Name\": \"Dick\", \"Sex\": \"M\", \"Count\": 182}, {\"Year\": 1956, \"Name\": \"Dick\", \"Sex\": \"M\", \"Count\": 192}, {\"Year\": 1957, \"Name\": \"Dick\", \"Sex\": \"M\", \"Count\": 201}, {\"Year\": 1958, \"Name\": \"Dick\", \"Sex\": \"M\", \"Count\": 234}, {\"Year\": 1959, \"Name\": \"Dick\", \"Sex\": \"M\", \"Count\": 219}, {\"Year\": 1960, \"Name\": \"Dick\", \"Sex\": \"M\", \"Count\": 186}, {\"Year\": 1961, \"Name\": \"Dick\", \"Sex\": \"M\", \"Count\": 181}, {\"Year\": 1962, \"Name\": \"Dick\", \"Sex\": \"M\", \"Count\": 148}, {\"Year\": 1963, \"Name\": \"Dick\", \"Sex\": \"M\", \"Count\": 129}, {\"Year\": 1964, \"Name\": \"Dick\", \"Sex\": \"M\", \"Count\": 110}, {\"Year\": 1965, \"Name\": \"Dick\", \"Sex\": \"M\", \"Count\": 99}, {\"Year\": 1966, \"Name\": \"Dick\", \"Sex\": \"M\", \"Count\": 65}, {\"Year\": 1967, \"Name\": \"Dick\", \"Sex\": \"M\", \"Count\": 74}, {\"Year\": 1968, \"Name\": \"Dick\", \"Sex\": \"M\", \"Count\": 62}, {\"Year\": 1969, \"Name\": \"Dick\", \"Sex\": \"M\", \"Count\": 57}, {\"Year\": 1970, \"Name\": \"Dick\", \"Sex\": \"M\", \"Count\": 52}, {\"Year\": 1971, \"Name\": \"Dick\", \"Sex\": \"M\", \"Count\": 38}, {\"Year\": 1972, \"Name\": \"Dick\", \"Sex\": \"M\", \"Count\": 29}, {\"Year\": 1973, \"Name\": \"Dick\", \"Sex\": \"M\", \"Count\": 35}, {\"Year\": 1974, \"Name\": \"Dick\", \"Sex\": \"M\", \"Count\": 33}, {\"Year\": 1975, \"Name\": \"Dick\", \"Sex\": \"M\", \"Count\": 23}, {\"Year\": 1976, \"Name\": \"Dick\", \"Sex\": \"M\", \"Count\": 21}, {\"Year\": 1977, \"Name\": \"Dick\", \"Sex\": \"M\", \"Count\": 19}, {\"Year\": 1978, \"Name\": \"Dick\", \"Sex\": \"M\", \"Count\": 21}, {\"Year\": 1979, \"Name\": \"Dick\", \"Sex\": \"M\", \"Count\": 17}, {\"Year\": 1980, \"Name\": \"Dick\", \"Sex\": \"M\", \"Count\": 20}, {\"Year\": 1981, \"Name\": \"Dick\", \"Sex\": \"M\", \"Count\": 9}, {\"Year\": 1982, \"Name\": \"Dick\", \"Sex\": \"M\", \"Count\": 17}, {\"Year\": 1983, \"Name\": \"Dick\", \"Sex\": \"M\", \"Count\": 19}, {\"Year\": 1984, \"Name\": \"Dick\", \"Sex\": \"M\", \"Count\": 11}, {\"Year\": 1985, \"Name\": \"Dick\", \"Sex\": \"M\", \"Count\": 13}, {\"Year\": 1986, \"Name\": \"Dick\", \"Sex\": \"M\", \"Count\": 10}, {\"Year\": 1987, \"Name\": \"Dick\", \"Sex\": \"M\", \"Count\": 12}, {\"Year\": 1989, \"Name\": \"Dick\", \"Sex\": \"M\", \"Count\": 10}, {\"Year\": 1990, \"Name\": \"Dick\", \"Sex\": \"M\", \"Count\": 10}, {\"Year\": 1992, \"Name\": \"Dick\", \"Sex\": \"M\", \"Count\": 5}, {\"Year\": 1993, \"Name\": \"Dick\", \"Sex\": \"M\", \"Count\": 6}, {\"Year\": 1994, \"Name\": \"Dick\", \"Sex\": \"M\", \"Count\": 6}, {\"Year\": 1995, \"Name\": \"Dick\", \"Sex\": \"M\", \"Count\": 6}, {\"Year\": 2000, \"Name\": \"Dick\", \"Sex\": \"M\", \"Count\": 6}, {\"Year\": 2002, \"Name\": \"Dick\", \"Sex\": \"M\", \"Count\": 6}, {\"Year\": 2005, \"Name\": \"Dick\", \"Sex\": \"M\", \"Count\": 5}]}}, {\"mode\": \"vega-lite\"});\n",
       "</script>"
      ],
      "text/plain": [
       "alt.LayerChart(...)"
      ]
     },
     "metadata": {},
     "output_type": "display_data"
    }
   ],
   "source": [
    "combined_chart = alt.layer(chart_richard, chart_dick).encode(\n",
    "     color=alt.Color('Name:N', legend=alt.Legend(title='Name')),\n",
    ").properties(\n",
    "   title='Richard remains far more popular than Dick',\n",
    "    width=600  \n",
    ")\n",
    "\n",
    "combined_chart.show()"
   ]
  },
  {
   "cell_type": "code",
   "execution_count": null,
   "id": "6ab4a674-d06b-4dee-843d-449b22c885a0",
   "metadata": {},
   "outputs": [],
   "source": []
  }
 ],
 "metadata": {
  "kernelspec": {
   "display_name": "Python 3 (ipykernel)",
   "language": "python",
   "name": "python3"
  },
  "language_info": {
   "codemirror_mode": {
    "name": "ipython",
    "version": 3
   },
   "file_extension": ".py",
   "mimetype": "text/x-python",
   "name": "python",
   "nbconvert_exporter": "python",
   "pygments_lexer": "ipython3",
   "version": "3.11.8"
  }
 },
 "nbformat": 4,
 "nbformat_minor": 5
}
